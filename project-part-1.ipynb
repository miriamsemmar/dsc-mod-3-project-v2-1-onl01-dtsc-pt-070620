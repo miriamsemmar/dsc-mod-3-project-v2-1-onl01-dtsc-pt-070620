{
 "cells": [
  {
   "cell_type": "markdown",
   "metadata": {},
   "source": [
    "# Introduction"
   ]
  },
  {
   "cell_type": "markdown",
   "metadata": {},
   "source": [
    "Our telecoms service is investigating customer churn. Namely, we want to develop a classification model to help us better identify which customers will churn. This will enable us to be more proactive in working to improve specific customer's relationship with the business and retain thier business. "
   ]
  },
  {
   "cell_type": "markdown",
   "metadata": {},
   "source": [
    "# Import Data + Packages"
   ]
  },
  {
   "cell_type": "code",
   "execution_count": 2,
   "metadata": {},
   "outputs": [],
   "source": [
    "#importing necessary functions.\n",
    "import pandas as pd\n",
    "import numpy as np\n",
    "import pandas as pd\n",
    "import sklearn.metrics as metrics\n",
    "import matplotlib as mpl\n",
    "import matplotlib.pyplot as plt\n",
    "import seaborn as sns\n",
    "from sklearn.model_selection import train_test_split, GridSearchCV, cross_val_score\n",
    "from sklearn.metrics import classification_report\n",
    "from sklearn.tree import DecisionTreeClassifier\n",
    "from sklearn.ensemble import RandomForestClassifier\n",
    "from sklearn.metrics import accuracy_score, roc_curve, auc\n",
    "from sklearn import tree\n",
    "from sklearn.preprocessing import OneHotEncoder\n",
    "from sklearn.preprocessing import StandardScaler\n",
    "from sklearn.preprocessing import MinMaxScaler\n",
    "from sklearn.preprocessing import normalize\n",
    "from sklearn.preprocessing import StandardScaler\n",
    "from sklearn.metrics import plot_confusion_matrix, recall_score\n",
    "from xgboost import XGBRFClassifier,XGBClassifier\n",
    "from imblearn.over_sampling import SMOTE\n",
    "import warnings\n",
    "from collections import Counter\n",
    "warnings.filterwarnings('ignore')\n",
    "from sklearn.metrics import precision_score, recall_score, accuracy_score, f1_score\n",
    "from sklearn.metrics import confusion_matrix\n",
    "from sklearn.naive_bayes import MultinomialNB\n",
    "from sklearn.naive_bayes import GaussianNB\n",
    "from sklearn.neighbors import KNeighborsClassifier\n",
    "\n",
    "from sklearn.tree import DecisionTreeClassifier\n",
    "from sklearn.ensemble import BaggingClassifier, RandomForestClassifier\n",
    "\n",
    "from sklearn.ensemble import AdaBoostClassifier, GradientBoostingClassifier\n",
    "import xgboost as xgb\n",
    "from sklearn.svm import SVC"
   ]
  },
  {
   "cell_type": "code",
   "execution_count": 3,
   "metadata": {},
   "outputs": [
    {
     "data": {
      "text/html": [
       "<div>\n",
       "<style scoped>\n",
       "    .dataframe tbody tr th:only-of-type {\n",
       "        vertical-align: middle;\n",
       "    }\n",
       "\n",
       "    .dataframe tbody tr th {\n",
       "        vertical-align: top;\n",
       "    }\n",
       "\n",
       "    .dataframe thead th {\n",
       "        text-align: right;\n",
       "    }\n",
       "</style>\n",
       "<table border=\"1\" class=\"dataframe\">\n",
       "  <thead>\n",
       "    <tr style=\"text-align: right;\">\n",
       "      <th></th>\n",
       "      <th>state</th>\n",
       "      <th>account length</th>\n",
       "      <th>area code</th>\n",
       "      <th>phone number</th>\n",
       "      <th>international plan</th>\n",
       "      <th>voice mail plan</th>\n",
       "      <th>number vmail messages</th>\n",
       "      <th>total day minutes</th>\n",
       "      <th>total day calls</th>\n",
       "      <th>total day charge</th>\n",
       "      <th>...</th>\n",
       "      <th>total eve calls</th>\n",
       "      <th>total eve charge</th>\n",
       "      <th>total night minutes</th>\n",
       "      <th>total night calls</th>\n",
       "      <th>total night charge</th>\n",
       "      <th>total intl minutes</th>\n",
       "      <th>total intl calls</th>\n",
       "      <th>total intl charge</th>\n",
       "      <th>customer service calls</th>\n",
       "      <th>churn</th>\n",
       "    </tr>\n",
       "  </thead>\n",
       "  <tbody>\n",
       "    <tr>\n",
       "      <td>0</td>\n",
       "      <td>KS</td>\n",
       "      <td>128</td>\n",
       "      <td>415</td>\n",
       "      <td>382-4657</td>\n",
       "      <td>no</td>\n",
       "      <td>yes</td>\n",
       "      <td>25</td>\n",
       "      <td>265.1</td>\n",
       "      <td>110</td>\n",
       "      <td>45.07</td>\n",
       "      <td>...</td>\n",
       "      <td>99</td>\n",
       "      <td>16.78</td>\n",
       "      <td>244.7</td>\n",
       "      <td>91</td>\n",
       "      <td>11.01</td>\n",
       "      <td>10.0</td>\n",
       "      <td>3</td>\n",
       "      <td>2.70</td>\n",
       "      <td>1</td>\n",
       "      <td>False</td>\n",
       "    </tr>\n",
       "    <tr>\n",
       "      <td>1</td>\n",
       "      <td>OH</td>\n",
       "      <td>107</td>\n",
       "      <td>415</td>\n",
       "      <td>371-7191</td>\n",
       "      <td>no</td>\n",
       "      <td>yes</td>\n",
       "      <td>26</td>\n",
       "      <td>161.6</td>\n",
       "      <td>123</td>\n",
       "      <td>27.47</td>\n",
       "      <td>...</td>\n",
       "      <td>103</td>\n",
       "      <td>16.62</td>\n",
       "      <td>254.4</td>\n",
       "      <td>103</td>\n",
       "      <td>11.45</td>\n",
       "      <td>13.7</td>\n",
       "      <td>3</td>\n",
       "      <td>3.70</td>\n",
       "      <td>1</td>\n",
       "      <td>False</td>\n",
       "    </tr>\n",
       "    <tr>\n",
       "      <td>2</td>\n",
       "      <td>NJ</td>\n",
       "      <td>137</td>\n",
       "      <td>415</td>\n",
       "      <td>358-1921</td>\n",
       "      <td>no</td>\n",
       "      <td>no</td>\n",
       "      <td>0</td>\n",
       "      <td>243.4</td>\n",
       "      <td>114</td>\n",
       "      <td>41.38</td>\n",
       "      <td>...</td>\n",
       "      <td>110</td>\n",
       "      <td>10.30</td>\n",
       "      <td>162.6</td>\n",
       "      <td>104</td>\n",
       "      <td>7.32</td>\n",
       "      <td>12.2</td>\n",
       "      <td>5</td>\n",
       "      <td>3.29</td>\n",
       "      <td>0</td>\n",
       "      <td>False</td>\n",
       "    </tr>\n",
       "    <tr>\n",
       "      <td>3</td>\n",
       "      <td>OH</td>\n",
       "      <td>84</td>\n",
       "      <td>408</td>\n",
       "      <td>375-9999</td>\n",
       "      <td>yes</td>\n",
       "      <td>no</td>\n",
       "      <td>0</td>\n",
       "      <td>299.4</td>\n",
       "      <td>71</td>\n",
       "      <td>50.90</td>\n",
       "      <td>...</td>\n",
       "      <td>88</td>\n",
       "      <td>5.26</td>\n",
       "      <td>196.9</td>\n",
       "      <td>89</td>\n",
       "      <td>8.86</td>\n",
       "      <td>6.6</td>\n",
       "      <td>7</td>\n",
       "      <td>1.78</td>\n",
       "      <td>2</td>\n",
       "      <td>False</td>\n",
       "    </tr>\n",
       "    <tr>\n",
       "      <td>4</td>\n",
       "      <td>OK</td>\n",
       "      <td>75</td>\n",
       "      <td>415</td>\n",
       "      <td>330-6626</td>\n",
       "      <td>yes</td>\n",
       "      <td>no</td>\n",
       "      <td>0</td>\n",
       "      <td>166.7</td>\n",
       "      <td>113</td>\n",
       "      <td>28.34</td>\n",
       "      <td>...</td>\n",
       "      <td>122</td>\n",
       "      <td>12.61</td>\n",
       "      <td>186.9</td>\n",
       "      <td>121</td>\n",
       "      <td>8.41</td>\n",
       "      <td>10.1</td>\n",
       "      <td>3</td>\n",
       "      <td>2.73</td>\n",
       "      <td>3</td>\n",
       "      <td>False</td>\n",
       "    </tr>\n",
       "  </tbody>\n",
       "</table>\n",
       "<p>5 rows × 21 columns</p>\n",
       "</div>"
      ],
      "text/plain": [
       "  state  account length  area code phone number international plan  \\\n",
       "0    KS             128        415     382-4657                 no   \n",
       "1    OH             107        415     371-7191                 no   \n",
       "2    NJ             137        415     358-1921                 no   \n",
       "3    OH              84        408     375-9999                yes   \n",
       "4    OK              75        415     330-6626                yes   \n",
       "\n",
       "  voice mail plan  number vmail messages  total day minutes  total day calls  \\\n",
       "0             yes                     25              265.1              110   \n",
       "1             yes                     26              161.6              123   \n",
       "2              no                      0              243.4              114   \n",
       "3              no                      0              299.4               71   \n",
       "4              no                      0              166.7              113   \n",
       "\n",
       "   total day charge  ...  total eve calls  total eve charge  \\\n",
       "0             45.07  ...               99             16.78   \n",
       "1             27.47  ...              103             16.62   \n",
       "2             41.38  ...              110             10.30   \n",
       "3             50.90  ...               88              5.26   \n",
       "4             28.34  ...              122             12.61   \n",
       "\n",
       "   total night minutes  total night calls  total night charge  \\\n",
       "0                244.7                 91               11.01   \n",
       "1                254.4                103               11.45   \n",
       "2                162.6                104                7.32   \n",
       "3                196.9                 89                8.86   \n",
       "4                186.9                121                8.41   \n",
       "\n",
       "   total intl minutes  total intl calls  total intl charge  \\\n",
       "0                10.0                 3               2.70   \n",
       "1                13.7                 3               3.70   \n",
       "2                12.2                 5               3.29   \n",
       "3                 6.6                 7               1.78   \n",
       "4                10.1                 3               2.73   \n",
       "\n",
       "   customer service calls  churn  \n",
       "0                       1  False  \n",
       "1                       1  False  \n",
       "2                       0  False  \n",
       "3                       2  False  \n",
       "4                       3  False  \n",
       "\n",
       "[5 rows x 21 columns]"
      ]
     },
     "execution_count": 3,
     "metadata": {},
     "output_type": "execute_result"
    }
   ],
   "source": [
    "#Importing data, originally sourced from Kaggle (https://www.kaggle.com/becksddf/churn-in-telecoms-dataset)\n",
    "\n",
    "df = pd.read_csv('bigml_59c28831336c6604c800002a.csv')\n",
    "df.head()"
   ]
  },
  {
   "cell_type": "markdown",
   "metadata": {},
   "source": [
    "# Explore Data"
   ]
  },
  {
   "cell_type": "markdown",
   "metadata": {},
   "source": [
    "## Basic Dataset Exploration"
   ]
  },
  {
   "cell_type": "code",
   "execution_count": 4,
   "metadata": {},
   "outputs": [
    {
     "data": {
      "text/html": [
       "<div>\n",
       "<style scoped>\n",
       "    .dataframe tbody tr th:only-of-type {\n",
       "        vertical-align: middle;\n",
       "    }\n",
       "\n",
       "    .dataframe tbody tr th {\n",
       "        vertical-align: top;\n",
       "    }\n",
       "\n",
       "    .dataframe thead th {\n",
       "        text-align: right;\n",
       "    }\n",
       "</style>\n",
       "<table border=\"1\" class=\"dataframe\">\n",
       "  <thead>\n",
       "    <tr style=\"text-align: right;\">\n",
       "      <th></th>\n",
       "      <th>state</th>\n",
       "      <th>account length</th>\n",
       "      <th>area code</th>\n",
       "      <th>phone number</th>\n",
       "      <th>international plan</th>\n",
       "      <th>voice mail plan</th>\n",
       "      <th>number vmail messages</th>\n",
       "      <th>total day minutes</th>\n",
       "      <th>total day calls</th>\n",
       "      <th>total day charge</th>\n",
       "      <th>...</th>\n",
       "      <th>total eve calls</th>\n",
       "      <th>total eve charge</th>\n",
       "      <th>total night minutes</th>\n",
       "      <th>total night calls</th>\n",
       "      <th>total night charge</th>\n",
       "      <th>total intl minutes</th>\n",
       "      <th>total intl calls</th>\n",
       "      <th>total intl charge</th>\n",
       "      <th>customer service calls</th>\n",
       "      <th>churn</th>\n",
       "    </tr>\n",
       "  </thead>\n",
       "  <tbody>\n",
       "    <tr>\n",
       "      <td>0</td>\n",
       "      <td>KS</td>\n",
       "      <td>128</td>\n",
       "      <td>415</td>\n",
       "      <td>382-4657</td>\n",
       "      <td>no</td>\n",
       "      <td>yes</td>\n",
       "      <td>25</td>\n",
       "      <td>265.1</td>\n",
       "      <td>110</td>\n",
       "      <td>45.07</td>\n",
       "      <td>...</td>\n",
       "      <td>99</td>\n",
       "      <td>16.78</td>\n",
       "      <td>244.7</td>\n",
       "      <td>91</td>\n",
       "      <td>11.01</td>\n",
       "      <td>10.0</td>\n",
       "      <td>3</td>\n",
       "      <td>2.70</td>\n",
       "      <td>1</td>\n",
       "      <td>False</td>\n",
       "    </tr>\n",
       "    <tr>\n",
       "      <td>1</td>\n",
       "      <td>OH</td>\n",
       "      <td>107</td>\n",
       "      <td>415</td>\n",
       "      <td>371-7191</td>\n",
       "      <td>no</td>\n",
       "      <td>yes</td>\n",
       "      <td>26</td>\n",
       "      <td>161.6</td>\n",
       "      <td>123</td>\n",
       "      <td>27.47</td>\n",
       "      <td>...</td>\n",
       "      <td>103</td>\n",
       "      <td>16.62</td>\n",
       "      <td>254.4</td>\n",
       "      <td>103</td>\n",
       "      <td>11.45</td>\n",
       "      <td>13.7</td>\n",
       "      <td>3</td>\n",
       "      <td>3.70</td>\n",
       "      <td>1</td>\n",
       "      <td>False</td>\n",
       "    </tr>\n",
       "    <tr>\n",
       "      <td>2</td>\n",
       "      <td>NJ</td>\n",
       "      <td>137</td>\n",
       "      <td>415</td>\n",
       "      <td>358-1921</td>\n",
       "      <td>no</td>\n",
       "      <td>no</td>\n",
       "      <td>0</td>\n",
       "      <td>243.4</td>\n",
       "      <td>114</td>\n",
       "      <td>41.38</td>\n",
       "      <td>...</td>\n",
       "      <td>110</td>\n",
       "      <td>10.30</td>\n",
       "      <td>162.6</td>\n",
       "      <td>104</td>\n",
       "      <td>7.32</td>\n",
       "      <td>12.2</td>\n",
       "      <td>5</td>\n",
       "      <td>3.29</td>\n",
       "      <td>0</td>\n",
       "      <td>False</td>\n",
       "    </tr>\n",
       "    <tr>\n",
       "      <td>3</td>\n",
       "      <td>OH</td>\n",
       "      <td>84</td>\n",
       "      <td>408</td>\n",
       "      <td>375-9999</td>\n",
       "      <td>yes</td>\n",
       "      <td>no</td>\n",
       "      <td>0</td>\n",
       "      <td>299.4</td>\n",
       "      <td>71</td>\n",
       "      <td>50.90</td>\n",
       "      <td>...</td>\n",
       "      <td>88</td>\n",
       "      <td>5.26</td>\n",
       "      <td>196.9</td>\n",
       "      <td>89</td>\n",
       "      <td>8.86</td>\n",
       "      <td>6.6</td>\n",
       "      <td>7</td>\n",
       "      <td>1.78</td>\n",
       "      <td>2</td>\n",
       "      <td>False</td>\n",
       "    </tr>\n",
       "    <tr>\n",
       "      <td>4</td>\n",
       "      <td>OK</td>\n",
       "      <td>75</td>\n",
       "      <td>415</td>\n",
       "      <td>330-6626</td>\n",
       "      <td>yes</td>\n",
       "      <td>no</td>\n",
       "      <td>0</td>\n",
       "      <td>166.7</td>\n",
       "      <td>113</td>\n",
       "      <td>28.34</td>\n",
       "      <td>...</td>\n",
       "      <td>122</td>\n",
       "      <td>12.61</td>\n",
       "      <td>186.9</td>\n",
       "      <td>121</td>\n",
       "      <td>8.41</td>\n",
       "      <td>10.1</td>\n",
       "      <td>3</td>\n",
       "      <td>2.73</td>\n",
       "      <td>3</td>\n",
       "      <td>False</td>\n",
       "    </tr>\n",
       "  </tbody>\n",
       "</table>\n",
       "<p>5 rows × 21 columns</p>\n",
       "</div>"
      ],
      "text/plain": [
       "  state  account length  area code phone number international plan  \\\n",
       "0    KS             128        415     382-4657                 no   \n",
       "1    OH             107        415     371-7191                 no   \n",
       "2    NJ             137        415     358-1921                 no   \n",
       "3    OH              84        408     375-9999                yes   \n",
       "4    OK              75        415     330-6626                yes   \n",
       "\n",
       "  voice mail plan  number vmail messages  total day minutes  total day calls  \\\n",
       "0             yes                     25              265.1              110   \n",
       "1             yes                     26              161.6              123   \n",
       "2              no                      0              243.4              114   \n",
       "3              no                      0              299.4               71   \n",
       "4              no                      0              166.7              113   \n",
       "\n",
       "   total day charge  ...  total eve calls  total eve charge  \\\n",
       "0             45.07  ...               99             16.78   \n",
       "1             27.47  ...              103             16.62   \n",
       "2             41.38  ...              110             10.30   \n",
       "3             50.90  ...               88              5.26   \n",
       "4             28.34  ...              122             12.61   \n",
       "\n",
       "   total night minutes  total night calls  total night charge  \\\n",
       "0                244.7                 91               11.01   \n",
       "1                254.4                103               11.45   \n",
       "2                162.6                104                7.32   \n",
       "3                196.9                 89                8.86   \n",
       "4                186.9                121                8.41   \n",
       "\n",
       "   total intl minutes  total intl calls  total intl charge  \\\n",
       "0                10.0                 3               2.70   \n",
       "1                13.7                 3               3.70   \n",
       "2                12.2                 5               3.29   \n",
       "3                 6.6                 7               1.78   \n",
       "4                10.1                 3               2.73   \n",
       "\n",
       "   customer service calls  churn  \n",
       "0                       1  False  \n",
       "1                       1  False  \n",
       "2                       0  False  \n",
       "3                       2  False  \n",
       "4                       3  False  \n",
       "\n",
       "[5 rows x 21 columns]"
      ]
     },
     "execution_count": 4,
     "metadata": {},
     "output_type": "execute_result"
    }
   ],
   "source": [
    "df.head()"
   ]
  },
  {
   "cell_type": "code",
   "execution_count": 5,
   "metadata": {},
   "outputs": [
    {
     "name": "stdout",
     "output_type": "stream",
     "text": [
      "<class 'pandas.core.frame.DataFrame'>\n",
      "RangeIndex: 3333 entries, 0 to 3332\n",
      "Data columns (total 21 columns):\n",
      "state                     3333 non-null object\n",
      "account length            3333 non-null int64\n",
      "area code                 3333 non-null int64\n",
      "phone number              3333 non-null object\n",
      "international plan        3333 non-null object\n",
      "voice mail plan           3333 non-null object\n",
      "number vmail messages     3333 non-null int64\n",
      "total day minutes         3333 non-null float64\n",
      "total day calls           3333 non-null int64\n",
      "total day charge          3333 non-null float64\n",
      "total eve minutes         3333 non-null float64\n",
      "total eve calls           3333 non-null int64\n",
      "total eve charge          3333 non-null float64\n",
      "total night minutes       3333 non-null float64\n",
      "total night calls         3333 non-null int64\n",
      "total night charge        3333 non-null float64\n",
      "total intl minutes        3333 non-null float64\n",
      "total intl calls          3333 non-null int64\n",
      "total intl charge         3333 non-null float64\n",
      "customer service calls    3333 non-null int64\n",
      "churn                     3333 non-null bool\n",
      "dtypes: bool(1), float64(8), int64(8), object(4)\n",
      "memory usage: 524.2+ KB\n"
     ]
    }
   ],
   "source": [
    "df.info()\n",
    "\n",
    "#primarily working with numbers...objects may need to be converted to dummy variables. "
   ]
  },
  {
   "cell_type": "code",
   "execution_count": 6,
   "metadata": {},
   "outputs": [
    {
     "data": {
      "text/plain": [
       "state                     0\n",
       "account length            0\n",
       "area code                 0\n",
       "phone number              0\n",
       "international plan        0\n",
       "voice mail plan           0\n",
       "number vmail messages     0\n",
       "total day minutes         0\n",
       "total day calls           0\n",
       "total day charge          0\n",
       "total eve minutes         0\n",
       "total eve calls           0\n",
       "total eve charge          0\n",
       "total night minutes       0\n",
       "total night calls         0\n",
       "total night charge        0\n",
       "total intl minutes        0\n",
       "total intl calls          0\n",
       "total intl charge         0\n",
       "customer service calls    0\n",
       "churn                     0\n",
       "dtype: int64"
      ]
     },
     "execution_count": 6,
     "metadata": {},
     "output_type": "execute_result"
    }
   ],
   "source": [
    "df.isna().sum()\n",
    "\n",
    "#No NA values"
   ]
  },
  {
   "cell_type": "code",
   "execution_count": 7,
   "metadata": {},
   "outputs": [
    {
     "data": {
      "text/plain": [
       "state                       51\n",
       "account length             212\n",
       "area code                    3\n",
       "phone number              3333\n",
       "international plan           2\n",
       "voice mail plan              2\n",
       "number vmail messages       46\n",
       "total day minutes         1667\n",
       "total day calls            119\n",
       "total day charge          1667\n",
       "total eve minutes         1611\n",
       "total eve calls            123\n",
       "total eve charge          1440\n",
       "total night minutes       1591\n",
       "total night calls          120\n",
       "total night charge         933\n",
       "total intl minutes         162\n",
       "total intl calls            21\n",
       "total intl charge          162\n",
       "customer service calls      10\n",
       "churn                        2\n",
       "dtype: int64"
      ]
     },
     "execution_count": 7,
     "metadata": {},
     "output_type": "execute_result"
    }
   ],
   "source": [
    "#Phone number is unique, no pattern to be obtained from this data\n",
    "\n",
    "df.nunique()"
   ]
  },
  {
   "cell_type": "code",
   "execution_count": 8,
   "metadata": {},
   "outputs": [
    {
     "data": {
      "text/html": [
       "<div>\n",
       "<style scoped>\n",
       "    .dataframe tbody tr th:only-of-type {\n",
       "        vertical-align: middle;\n",
       "    }\n",
       "\n",
       "    .dataframe tbody tr th {\n",
       "        vertical-align: top;\n",
       "    }\n",
       "\n",
       "    .dataframe thead th {\n",
       "        text-align: right;\n",
       "    }\n",
       "</style>\n",
       "<table border=\"1\" class=\"dataframe\">\n",
       "  <thead>\n",
       "    <tr style=\"text-align: right;\">\n",
       "      <th></th>\n",
       "      <th>account length</th>\n",
       "      <th>area code</th>\n",
       "      <th>number vmail messages</th>\n",
       "      <th>total day minutes</th>\n",
       "      <th>total day calls</th>\n",
       "      <th>total day charge</th>\n",
       "      <th>total eve minutes</th>\n",
       "      <th>total eve calls</th>\n",
       "      <th>total eve charge</th>\n",
       "      <th>total night minutes</th>\n",
       "      <th>total night calls</th>\n",
       "      <th>total night charge</th>\n",
       "      <th>total intl minutes</th>\n",
       "      <th>total intl calls</th>\n",
       "      <th>total intl charge</th>\n",
       "      <th>customer service calls</th>\n",
       "    </tr>\n",
       "  </thead>\n",
       "  <tbody>\n",
       "    <tr>\n",
       "      <td>count</td>\n",
       "      <td>3333.000000</td>\n",
       "      <td>3333.000000</td>\n",
       "      <td>3333.000000</td>\n",
       "      <td>3333.000000</td>\n",
       "      <td>3333.000000</td>\n",
       "      <td>3333.000000</td>\n",
       "      <td>3333.000000</td>\n",
       "      <td>3333.000000</td>\n",
       "      <td>3333.000000</td>\n",
       "      <td>3333.000000</td>\n",
       "      <td>3333.000000</td>\n",
       "      <td>3333.000000</td>\n",
       "      <td>3333.000000</td>\n",
       "      <td>3333.000000</td>\n",
       "      <td>3333.000000</td>\n",
       "      <td>3333.000000</td>\n",
       "    </tr>\n",
       "    <tr>\n",
       "      <td>mean</td>\n",
       "      <td>101.064806</td>\n",
       "      <td>437.182418</td>\n",
       "      <td>8.099010</td>\n",
       "      <td>179.775098</td>\n",
       "      <td>100.435644</td>\n",
       "      <td>30.562307</td>\n",
       "      <td>200.980348</td>\n",
       "      <td>100.114311</td>\n",
       "      <td>17.083540</td>\n",
       "      <td>200.872037</td>\n",
       "      <td>100.107711</td>\n",
       "      <td>9.039325</td>\n",
       "      <td>10.237294</td>\n",
       "      <td>4.479448</td>\n",
       "      <td>2.764581</td>\n",
       "      <td>1.562856</td>\n",
       "    </tr>\n",
       "    <tr>\n",
       "      <td>std</td>\n",
       "      <td>39.822106</td>\n",
       "      <td>42.371290</td>\n",
       "      <td>13.688365</td>\n",
       "      <td>54.467389</td>\n",
       "      <td>20.069084</td>\n",
       "      <td>9.259435</td>\n",
       "      <td>50.713844</td>\n",
       "      <td>19.922625</td>\n",
       "      <td>4.310668</td>\n",
       "      <td>50.573847</td>\n",
       "      <td>19.568609</td>\n",
       "      <td>2.275873</td>\n",
       "      <td>2.791840</td>\n",
       "      <td>2.461214</td>\n",
       "      <td>0.753773</td>\n",
       "      <td>1.315491</td>\n",
       "    </tr>\n",
       "    <tr>\n",
       "      <td>min</td>\n",
       "      <td>1.000000</td>\n",
       "      <td>408.000000</td>\n",
       "      <td>0.000000</td>\n",
       "      <td>0.000000</td>\n",
       "      <td>0.000000</td>\n",
       "      <td>0.000000</td>\n",
       "      <td>0.000000</td>\n",
       "      <td>0.000000</td>\n",
       "      <td>0.000000</td>\n",
       "      <td>23.200000</td>\n",
       "      <td>33.000000</td>\n",
       "      <td>1.040000</td>\n",
       "      <td>0.000000</td>\n",
       "      <td>0.000000</td>\n",
       "      <td>0.000000</td>\n",
       "      <td>0.000000</td>\n",
       "    </tr>\n",
       "    <tr>\n",
       "      <td>25%</td>\n",
       "      <td>74.000000</td>\n",
       "      <td>408.000000</td>\n",
       "      <td>0.000000</td>\n",
       "      <td>143.700000</td>\n",
       "      <td>87.000000</td>\n",
       "      <td>24.430000</td>\n",
       "      <td>166.600000</td>\n",
       "      <td>87.000000</td>\n",
       "      <td>14.160000</td>\n",
       "      <td>167.000000</td>\n",
       "      <td>87.000000</td>\n",
       "      <td>7.520000</td>\n",
       "      <td>8.500000</td>\n",
       "      <td>3.000000</td>\n",
       "      <td>2.300000</td>\n",
       "      <td>1.000000</td>\n",
       "    </tr>\n",
       "    <tr>\n",
       "      <td>50%</td>\n",
       "      <td>101.000000</td>\n",
       "      <td>415.000000</td>\n",
       "      <td>0.000000</td>\n",
       "      <td>179.400000</td>\n",
       "      <td>101.000000</td>\n",
       "      <td>30.500000</td>\n",
       "      <td>201.400000</td>\n",
       "      <td>100.000000</td>\n",
       "      <td>17.120000</td>\n",
       "      <td>201.200000</td>\n",
       "      <td>100.000000</td>\n",
       "      <td>9.050000</td>\n",
       "      <td>10.300000</td>\n",
       "      <td>4.000000</td>\n",
       "      <td>2.780000</td>\n",
       "      <td>1.000000</td>\n",
       "    </tr>\n",
       "    <tr>\n",
       "      <td>75%</td>\n",
       "      <td>127.000000</td>\n",
       "      <td>510.000000</td>\n",
       "      <td>20.000000</td>\n",
       "      <td>216.400000</td>\n",
       "      <td>114.000000</td>\n",
       "      <td>36.790000</td>\n",
       "      <td>235.300000</td>\n",
       "      <td>114.000000</td>\n",
       "      <td>20.000000</td>\n",
       "      <td>235.300000</td>\n",
       "      <td>113.000000</td>\n",
       "      <td>10.590000</td>\n",
       "      <td>12.100000</td>\n",
       "      <td>6.000000</td>\n",
       "      <td>3.270000</td>\n",
       "      <td>2.000000</td>\n",
       "    </tr>\n",
       "    <tr>\n",
       "      <td>max</td>\n",
       "      <td>243.000000</td>\n",
       "      <td>510.000000</td>\n",
       "      <td>51.000000</td>\n",
       "      <td>350.800000</td>\n",
       "      <td>165.000000</td>\n",
       "      <td>59.640000</td>\n",
       "      <td>363.700000</td>\n",
       "      <td>170.000000</td>\n",
       "      <td>30.910000</td>\n",
       "      <td>395.000000</td>\n",
       "      <td>175.000000</td>\n",
       "      <td>17.770000</td>\n",
       "      <td>20.000000</td>\n",
       "      <td>20.000000</td>\n",
       "      <td>5.400000</td>\n",
       "      <td>9.000000</td>\n",
       "    </tr>\n",
       "  </tbody>\n",
       "</table>\n",
       "</div>"
      ],
      "text/plain": [
       "       account length    area code  number vmail messages  total day minutes  \\\n",
       "count     3333.000000  3333.000000            3333.000000        3333.000000   \n",
       "mean       101.064806   437.182418               8.099010         179.775098   \n",
       "std         39.822106    42.371290              13.688365          54.467389   \n",
       "min          1.000000   408.000000               0.000000           0.000000   \n",
       "25%         74.000000   408.000000               0.000000         143.700000   \n",
       "50%        101.000000   415.000000               0.000000         179.400000   \n",
       "75%        127.000000   510.000000              20.000000         216.400000   \n",
       "max        243.000000   510.000000              51.000000         350.800000   \n",
       "\n",
       "       total day calls  total day charge  total eve minutes  total eve calls  \\\n",
       "count      3333.000000       3333.000000        3333.000000      3333.000000   \n",
       "mean        100.435644         30.562307         200.980348       100.114311   \n",
       "std          20.069084          9.259435          50.713844        19.922625   \n",
       "min           0.000000          0.000000           0.000000         0.000000   \n",
       "25%          87.000000         24.430000         166.600000        87.000000   \n",
       "50%         101.000000         30.500000         201.400000       100.000000   \n",
       "75%         114.000000         36.790000         235.300000       114.000000   \n",
       "max         165.000000         59.640000         363.700000       170.000000   \n",
       "\n",
       "       total eve charge  total night minutes  total night calls  \\\n",
       "count       3333.000000          3333.000000        3333.000000   \n",
       "mean          17.083540           200.872037         100.107711   \n",
       "std            4.310668            50.573847          19.568609   \n",
       "min            0.000000            23.200000          33.000000   \n",
       "25%           14.160000           167.000000          87.000000   \n",
       "50%           17.120000           201.200000         100.000000   \n",
       "75%           20.000000           235.300000         113.000000   \n",
       "max           30.910000           395.000000         175.000000   \n",
       "\n",
       "       total night charge  total intl minutes  total intl calls  \\\n",
       "count         3333.000000         3333.000000       3333.000000   \n",
       "mean             9.039325           10.237294          4.479448   \n",
       "std              2.275873            2.791840          2.461214   \n",
       "min              1.040000            0.000000          0.000000   \n",
       "25%              7.520000            8.500000          3.000000   \n",
       "50%              9.050000           10.300000          4.000000   \n",
       "75%             10.590000           12.100000          6.000000   \n",
       "max             17.770000           20.000000         20.000000   \n",
       "\n",
       "       total intl charge  customer service calls  \n",
       "count        3333.000000             3333.000000  \n",
       "mean            2.764581                1.562856  \n",
       "std             0.753773                1.315491  \n",
       "min             0.000000                0.000000  \n",
       "25%             2.300000                1.000000  \n",
       "50%             2.780000                1.000000  \n",
       "75%             3.270000                2.000000  \n",
       "max             5.400000                9.000000  "
      ]
     },
     "execution_count": 8,
     "metadata": {},
     "output_type": "execute_result"
    }
   ],
   "source": [
    "#Different scales\n",
    "\n",
    "df.describe()"
   ]
  },
  {
   "cell_type": "code",
   "execution_count": 9,
   "metadata": {
    "scrolled": true
   },
   "outputs": [
    {
     "name": "stdout",
     "output_type": "stream",
     "text": [
      "14.0 % of customers churn\n"
     ]
    },
    {
     "data": {
      "image/png": "[encoded data removed]",
      "text/plain": [
       "<Figure size 432x288 with 1 Axes>"
      ]
     },
     "metadata": {
      "needs_background": "light"
     },
     "output_type": "display_data"
    }
   ],
   "source": [
    "#Heavily skewed towards churn = 0 (as in, customer did not churn)\n",
    "\n",
    "percent_churn = df.churn.value_counts()[1]/len(df.churn)\n",
    "sns.barplot(df.churn.unique(), df.churn.value_counts())\n",
    "print(round(percent_churn*100),\"% of customers churn\")"
   ]
  },
  {
   "cell_type": "markdown",
   "metadata": {},
   "source": [
    "## Churn by State"
   ]
  },
  {
   "cell_type": "code",
   "execution_count": 10,
   "metadata": {
    "scrolled": false
   },
   "outputs": [
    {
     "data": {
      "text/plain": [
       "<matplotlib.axes._subplots.AxesSubplot at 0x7fe9d125ec50>"
      ]
     },
     "execution_count": 10,
     "metadata": {},
     "output_type": "execute_result"
    },
    {
     "data": {
      "image/png": "[encoded data removed]",
      "text/plain": [
       "<Figure size 2160x720 with 1 Axes>"
      ]
     },
     "metadata": {
      "needs_background": "light"
     },
     "output_type": "display_data"
    }
   ],
   "source": [
    "#Churn by state\n",
    "\n",
    "states_df = df.groupby([\"state\",\"churn\",]).size().unstack()\n",
    "\n",
    "no_churn_proportion = []\n",
    "churn_proportion = []\n",
    "\n",
    "for row in states_df.index:\n",
    "    total = states_df.loc[row].sum()\n",
    "    no_churn = round(states_df.loc[row][0]/total,2)\n",
    "    churn = round(1-no_churn,2)\n",
    "    no_churn_proportion.append(no_churn)\n",
    "    churn_proportion.append(churn)\n",
    "\n",
    "states_df['no_churn_proportion'] = no_churn_proportion\n",
    "states_df['churn_proportion'] = churn_proportion\n",
    "\n",
    "states_df[['no_churn_proportion','churn_proportion']].plot(kind='bar', stacked=True, figsize=(30,10))"
   ]
  },
  {
   "cell_type": "code",
   "execution_count": 11,
   "metadata": {
    "scrolled": true
   },
   "outputs": [
    {
     "data": {
      "text/html": [
       "<div>\n",
       "<style scoped>\n",
       "    .dataframe tbody tr th:only-of-type {\n",
       "        vertical-align: middle;\n",
       "    }\n",
       "\n",
       "    .dataframe tbody tr th {\n",
       "        vertical-align: top;\n",
       "    }\n",
       "\n",
       "    .dataframe thead th {\n",
       "        text-align: right;\n",
       "    }\n",
       "</style>\n",
       "<table border=\"1\" class=\"dataframe\">\n",
       "  <thead>\n",
       "    <tr style=\"text-align: right;\">\n",
       "      <th>churn</th>\n",
       "      <th>False</th>\n",
       "      <th>True</th>\n",
       "      <th>no_churn_proportion</th>\n",
       "      <th>churn_proportion</th>\n",
       "    </tr>\n",
       "    <tr>\n",
       "      <th>state</th>\n",
       "      <th></th>\n",
       "      <th></th>\n",
       "      <th></th>\n",
       "      <th></th>\n",
       "    </tr>\n",
       "  </thead>\n",
       "  <tbody>\n",
       "    <tr>\n",
       "      <td>NJ</td>\n",
       "      <td>50</td>\n",
       "      <td>18</td>\n",
       "      <td>0.74</td>\n",
       "      <td>0.26</td>\n",
       "    </tr>\n",
       "    <tr>\n",
       "      <td>CA</td>\n",
       "      <td>25</td>\n",
       "      <td>9</td>\n",
       "      <td>0.74</td>\n",
       "      <td>0.26</td>\n",
       "    </tr>\n",
       "    <tr>\n",
       "      <td>TX</td>\n",
       "      <td>54</td>\n",
       "      <td>18</td>\n",
       "      <td>0.75</td>\n",
       "      <td>0.25</td>\n",
       "    </tr>\n",
       "    <tr>\n",
       "      <td>MD</td>\n",
       "      <td>53</td>\n",
       "      <td>17</td>\n",
       "      <td>0.76</td>\n",
       "      <td>0.24</td>\n",
       "    </tr>\n",
       "    <tr>\n",
       "      <td>SC</td>\n",
       "      <td>46</td>\n",
       "      <td>14</td>\n",
       "      <td>0.77</td>\n",
       "      <td>0.23</td>\n",
       "    </tr>\n",
       "  </tbody>\n",
       "</table>\n",
       "</div>"
      ],
      "text/plain": [
       "churn  False  True  no_churn_proportion  churn_proportion\n",
       "state                                                    \n",
       "NJ        50    18                 0.74              0.26\n",
       "CA        25     9                 0.74              0.26\n",
       "TX        54    18                 0.75              0.25\n",
       "MD        53    17                 0.76              0.24\n",
       "SC        46    14                 0.77              0.23"
      ]
     },
     "execution_count": 11,
     "metadata": {},
     "output_type": "execute_result"
    }
   ],
   "source": [
    "#Top churns by state\n",
    "#NJ, CA, TX, MD and SC have the highest churn rates\n",
    "\n",
    "states_df.sort_values(by = 'churn_proportion',ascending=False).head()"
   ]
  },
  {
   "cell_type": "markdown",
   "metadata": {},
   "source": [
    "## Churn by Area Code"
   ]
  },
  {
   "cell_type": "code",
   "execution_count": 13,
   "metadata": {},
   "outputs": [
    {
     "data": {
      "text/plain": [
       "<matplotlib.axes._subplots.AxesSubplot at 0x7fe9d1da3b70>"
      ]
     },
     "execution_count": 13,
     "metadata": {},
     "output_type": "execute_result"
    },
    {
     "data": {
      "image/png": "[encoded data removed]",
      "text/plain": [
       "<Figure size 2160x720 with 1 Axes>"
      ]
     },
     "metadata": {
      "needs_background": "light"
     },
     "output_type": "display_data"
    }
   ],
   "source": [
    "#Churn by area code\n",
    "\n",
    "area_code_df = df.groupby([\"area code\",\"churn\"]).size().unstack()\n",
    "\n",
    "no_churn_proportion = []\n",
    "churn_proportion = []\n",
    "\n",
    "for row in area_code_df.index:\n",
    "    total = area_code_df.loc[row].sum()\n",
    "    no_churn = round(area_code_df.loc[row][0]/total,2)\n",
    "    churn = round(1-no_churn,2)\n",
    "    no_churn_proportion.append(no_churn)\n",
    "    churn_proportion.append(churn)\n",
    "\n",
    "area_code_df['no_churn_proportion'] = no_churn_proportion\n",
    "area_code_df['churn_proportion'] = churn_proportion\n",
    "\n",
    "area_code_df[['no_churn_proportion','churn_proportion']].plot(kind='bar', stacked=True, figsize=(30,10))"
   ]
  },
  {
   "cell_type": "code",
   "execution_count": 14,
   "metadata": {
    "scrolled": true
   },
   "outputs": [
    {
     "data": {
      "text/html": [
       "<div>\n",
       "<style scoped>\n",
       "    .dataframe tbody tr th:only-of-type {\n",
       "        vertical-align: middle;\n",
       "    }\n",
       "\n",
       "    .dataframe tbody tr th {\n",
       "        vertical-align: top;\n",
       "    }\n",
       "\n",
       "    .dataframe thead th {\n",
       "        text-align: right;\n",
       "    }\n",
       "</style>\n",
       "<table border=\"1\" class=\"dataframe\">\n",
       "  <thead>\n",
       "    <tr style=\"text-align: right;\">\n",
       "      <th>churn</th>\n",
       "      <th>False</th>\n",
       "      <th>True</th>\n",
       "      <th>no_churn_proportion</th>\n",
       "      <th>churn_proportion</th>\n",
       "    </tr>\n",
       "    <tr>\n",
       "      <th>area code</th>\n",
       "      <th></th>\n",
       "      <th></th>\n",
       "      <th></th>\n",
       "      <th></th>\n",
       "    </tr>\n",
       "  </thead>\n",
       "  <tbody>\n",
       "    <tr>\n",
       "      <td>408</td>\n",
       "      <td>716</td>\n",
       "      <td>122</td>\n",
       "      <td>0.85</td>\n",
       "      <td>0.15</td>\n",
       "    </tr>\n",
       "    <tr>\n",
       "      <td>510</td>\n",
       "      <td>715</td>\n",
       "      <td>125</td>\n",
       "      <td>0.85</td>\n",
       "      <td>0.15</td>\n",
       "    </tr>\n",
       "    <tr>\n",
       "      <td>415</td>\n",
       "      <td>1419</td>\n",
       "      <td>236</td>\n",
       "      <td>0.86</td>\n",
       "      <td>0.14</td>\n",
       "    </tr>\n",
       "  </tbody>\n",
       "</table>\n",
       "</div>"
      ],
      "text/plain": [
       "churn      False  True  no_churn_proportion  churn_proportion\n",
       "area code                                                    \n",
       "408          716   122                 0.85              0.15\n",
       "510          715   125                 0.85              0.15\n",
       "415         1419   236                 0.86              0.14"
      ]
     },
     "execution_count": 14,
     "metadata": {},
     "output_type": "execute_result"
    }
   ],
   "source": [
    "#All roughly the same rate of churn between area codes\n",
    "\n",
    "area_code_df.sort_values(by = 'churn_proportion',ascending=False).head()"
   ]
  },
  {
   "cell_type": "markdown",
   "metadata": {},
   "source": [
    "## Churn by International Plan"
   ]
  },
  {
   "cell_type": "code",
   "execution_count": 15,
   "metadata": {},
   "outputs": [
    {
     "data": {
      "text/plain": [
       "<matplotlib.axes._subplots.AxesSubplot at 0x7fe9d12b3cc0>"
      ]
     },
     "execution_count": 15,
     "metadata": {},
     "output_type": "execute_result"
    },
    {
     "data": {
      "image/png": "[encoded data removed]",
      "text/plain": [
       "<Figure size 2160x720 with 1 Axes>"
      ]
     },
     "metadata": {
      "needs_background": "light"
     },
     "output_type": "display_data"
    }
   ],
   "source": [
    "#Churn by international plan\n",
    "\n",
    "international_plan_df = df.groupby([\"international plan\",\"churn\",]).size().unstack()\n",
    "\n",
    "no_churn_proportion = []\n",
    "churn_proportion = []\n",
    "\n",
    "for row in international_plan_df.index:\n",
    "    total = international_plan_df.loc[row].sum()\n",
    "    no_churn = round(international_plan_df.loc[row][0]/total,2)\n",
    "    churn = round(1-no_churn,2)\n",
    "    no_churn_proportion.append(no_churn)\n",
    "    churn_proportion.append(churn)\n",
    "\n",
    "international_plan_df['no_churn_proportion'] = no_churn_proportion\n",
    "international_plan_df['churn_proportion'] = churn_proportion\n",
    "\n",
    "international_plan_df[['no_churn_proportion','churn_proportion']].plot(kind='bar', stacked=True, figsize=(30,10))"
   ]
  },
  {
   "cell_type": "code",
   "execution_count": 16,
   "metadata": {},
   "outputs": [
    {
     "data": {
      "text/html": [
       "<div>\n",
       "<style scoped>\n",
       "    .dataframe tbody tr th:only-of-type {\n",
       "        vertical-align: middle;\n",
       "    }\n",
       "\n",
       "    .dataframe tbody tr th {\n",
       "        vertical-align: top;\n",
       "    }\n",
       "\n",
       "    .dataframe thead th {\n",
       "        text-align: right;\n",
       "    }\n",
       "</style>\n",
       "<table border=\"1\" class=\"dataframe\">\n",
       "  <thead>\n",
       "    <tr style=\"text-align: right;\">\n",
       "      <th>churn</th>\n",
       "      <th>False</th>\n",
       "      <th>True</th>\n",
       "      <th>no_churn_proportion</th>\n",
       "      <th>churn_proportion</th>\n",
       "    </tr>\n",
       "    <tr>\n",
       "      <th>international plan</th>\n",
       "      <th></th>\n",
       "      <th></th>\n",
       "      <th></th>\n",
       "      <th></th>\n",
       "    </tr>\n",
       "  </thead>\n",
       "  <tbody>\n",
       "    <tr>\n",
       "      <td>yes</td>\n",
       "      <td>186</td>\n",
       "      <td>137</td>\n",
       "      <td>0.58</td>\n",
       "      <td>0.42</td>\n",
       "    </tr>\n",
       "    <tr>\n",
       "      <td>no</td>\n",
       "      <td>2664</td>\n",
       "      <td>346</td>\n",
       "      <td>0.89</td>\n",
       "      <td>0.11</td>\n",
       "    </tr>\n",
       "  </tbody>\n",
       "</table>\n",
       "</div>"
      ],
      "text/plain": [
       "churn               False  True  no_churn_proportion  churn_proportion\n",
       "international plan                                                    \n",
       "yes                   186   137                 0.58              0.42\n",
       "no                   2664   346                 0.89              0.11"
      ]
     },
     "execution_count": 16,
     "metadata": {},
     "output_type": "execute_result"
    }
   ],
   "source": [
    "#Those with international plan churn at a higher rate...possibly due to higher cost\n",
    "\n",
    "international_plan_df.sort_values(by = 'churn_proportion',ascending=False).head()"
   ]
  },
  {
   "cell_type": "markdown",
   "metadata": {},
   "source": [
    "## Churn by Voicemail Plan"
   ]
  },
  {
   "cell_type": "code",
   "execution_count": 17,
   "metadata": {},
   "outputs": [
    {
     "data": {
      "text/plain": [
       "<matplotlib.axes._subplots.AxesSubplot at 0x7fe9d135a9e8>"
      ]
     },
     "execution_count": 17,
     "metadata": {},
     "output_type": "execute_result"
    },
    {
     "data": {
      "image/png": "[encoded data removed]",
      "text/plain": [
       "<Figure size 2160x720 with 1 Axes>"
      ]
     },
     "metadata": {
      "needs_background": "light"
     },
     "output_type": "display_data"
    }
   ],
   "source": [
    "#Churn by voicemail plan\n",
    "\n",
    "voicemail_plan_df = df.groupby([\"voice mail plan\",\"churn\",]).size().unstack()\n",
    "\n",
    "no_churn_proportion = []\n",
    "churn_proportion = []\n",
    "\n",
    "for row in voicemail_plan_df.index:\n",
    "    total = voicemail_plan_df.loc[row].sum()\n",
    "    no_churn = round(voicemail_plan_df.loc[row][0]/total,2)\n",
    "    churn = round(1-no_churn,2)\n",
    "    no_churn_proportion.append(no_churn)\n",
    "    churn_proportion.append(churn)\n",
    "\n",
    "voicemail_plan_df['no_churn_proportion'] = no_churn_proportion\n",
    "voicemail_plan_df['churn_proportion'] = churn_proportion\n",
    "\n",
    "voicemail_plan_df[['no_churn_proportion','churn_proportion']].plot(kind='bar', stacked=True, figsize=(30,10))"
   ]
  },
  {
   "cell_type": "code",
   "execution_count": 18,
   "metadata": {},
   "outputs": [
    {
     "data": {
      "text/html": [
       "<div>\n",
       "<style scoped>\n",
       "    .dataframe tbody tr th:only-of-type {\n",
       "        vertical-align: middle;\n",
       "    }\n",
       "\n",
       "    .dataframe tbody tr th {\n",
       "        vertical-align: top;\n",
       "    }\n",
       "\n",
       "    .dataframe thead th {\n",
       "        text-align: right;\n",
       "    }\n",
       "</style>\n",
       "<table border=\"1\" class=\"dataframe\">\n",
       "  <thead>\n",
       "    <tr style=\"text-align: right;\">\n",
       "      <th>churn</th>\n",
       "      <th>False</th>\n",
       "      <th>True</th>\n",
       "      <th>no_churn_proportion</th>\n",
       "      <th>churn_proportion</th>\n",
       "    </tr>\n",
       "    <tr>\n",
       "      <th>voice mail plan</th>\n",
       "      <th></th>\n",
       "      <th></th>\n",
       "      <th></th>\n",
       "      <th></th>\n",
       "    </tr>\n",
       "  </thead>\n",
       "  <tbody>\n",
       "    <tr>\n",
       "      <td>no</td>\n",
       "      <td>2008</td>\n",
       "      <td>403</td>\n",
       "      <td>0.83</td>\n",
       "      <td>0.17</td>\n",
       "    </tr>\n",
       "    <tr>\n",
       "      <td>yes</td>\n",
       "      <td>842</td>\n",
       "      <td>80</td>\n",
       "      <td>0.91</td>\n",
       "      <td>0.09</td>\n",
       "    </tr>\n",
       "  </tbody>\n",
       "</table>\n",
       "</div>"
      ],
      "text/plain": [
       "churn            False  True  no_churn_proportion  churn_proportion\n",
       "voice mail plan                                                    \n",
       "no                2008   403                 0.83              0.17\n",
       "yes                842    80                 0.91              0.09"
      ]
     },
     "execution_count": 18,
     "metadata": {},
     "output_type": "execute_result"
    }
   ],
   "source": [
    "#Those without a voicemail plan churn at a higher rate \n",
    "\n",
    "voicemail_plan_df.sort_values(by = 'churn_proportion',ascending=False).head()"
   ]
  },
  {
   "cell_type": "markdown",
   "metadata": {},
   "source": [
    "## Churn by number of customer service calls"
   ]
  },
  {
   "cell_type": "code",
   "execution_count": 19,
   "metadata": {},
   "outputs": [
    {
     "data": {
      "text/plain": [
       "<matplotlib.axes._subplots.AxesSubplot at 0x7fe9d29e0588>"
      ]
     },
     "execution_count": 19,
     "metadata": {},
     "output_type": "execute_result"
    },
    {
     "data": {
      "image/png": "[encoded data removed]",
      "text/plain": [
       "<Figure size 2160x720 with 1 Axes>"
      ]
     },
     "metadata": {
      "needs_background": "light"
     },
     "output_type": "display_data"
    }
   ],
   "source": [
    "#Churn by customer service calls\n",
    "\n",
    "customer_service_calls_df = df.groupby([\"customer service calls\",\"churn\",]).size().unstack()\n",
    "\n",
    "no_churn_proportion = []\n",
    "churn_proportion = []\n",
    "\n",
    "for row in customer_service_calls_df.index:\n",
    "    total = customer_service_calls_df.loc[row].sum()\n",
    "    no_churn = round(customer_service_calls_df.loc[row][0]/total,2)\n",
    "    churn = round(1-no_churn,2)\n",
    "    no_churn_proportion.append(no_churn)\n",
    "    churn_proportion.append(churn)\n",
    "\n",
    "customer_service_calls_df['no_churn_proportion'] = no_churn_proportion\n",
    "customer_service_calls_df['churn_proportion'] = churn_proportion\n",
    "\n",
    "customer_service_calls_df[['no_churn_proportion','churn_proportion']].plot(kind='bar', stacked=True, figsize=(30,10))"
   ]
  },
  {
   "cell_type": "code",
   "execution_count": 20,
   "metadata": {},
   "outputs": [
    {
     "data": {
      "text/html": [
       "<div>\n",
       "<style scoped>\n",
       "    .dataframe tbody tr th:only-of-type {\n",
       "        vertical-align: middle;\n",
       "    }\n",
       "\n",
       "    .dataframe tbody tr th {\n",
       "        vertical-align: top;\n",
       "    }\n",
       "\n",
       "    .dataframe thead th {\n",
       "        text-align: right;\n",
       "    }\n",
       "</style>\n",
       "<table border=\"1\" class=\"dataframe\">\n",
       "  <thead>\n",
       "    <tr style=\"text-align: right;\">\n",
       "      <th>churn</th>\n",
       "      <th>False</th>\n",
       "      <th>True</th>\n",
       "      <th>no_churn_proportion</th>\n",
       "      <th>churn_proportion</th>\n",
       "    </tr>\n",
       "    <tr>\n",
       "      <th>customer service calls</th>\n",
       "      <th></th>\n",
       "      <th></th>\n",
       "      <th></th>\n",
       "      <th></th>\n",
       "    </tr>\n",
       "  </thead>\n",
       "  <tbody>\n",
       "    <tr>\n",
       "      <td>6</td>\n",
       "      <td>8.0</td>\n",
       "      <td>14.0</td>\n",
       "      <td>0.36</td>\n",
       "      <td>0.64</td>\n",
       "    </tr>\n",
       "    <tr>\n",
       "      <td>5</td>\n",
       "      <td>26.0</td>\n",
       "      <td>40.0</td>\n",
       "      <td>0.39</td>\n",
       "      <td>0.61</td>\n",
       "    </tr>\n",
       "    <tr>\n",
       "      <td>7</td>\n",
       "      <td>4.0</td>\n",
       "      <td>5.0</td>\n",
       "      <td>0.44</td>\n",
       "      <td>0.56</td>\n",
       "    </tr>\n",
       "    <tr>\n",
       "      <td>8</td>\n",
       "      <td>1.0</td>\n",
       "      <td>1.0</td>\n",
       "      <td>0.50</td>\n",
       "      <td>0.50</td>\n",
       "    </tr>\n",
       "    <tr>\n",
       "      <td>4</td>\n",
       "      <td>90.0</td>\n",
       "      <td>76.0</td>\n",
       "      <td>0.54</td>\n",
       "      <td>0.46</td>\n",
       "    </tr>\n",
       "    <tr>\n",
       "      <td>0</td>\n",
       "      <td>605.0</td>\n",
       "      <td>92.0</td>\n",
       "      <td>0.87</td>\n",
       "      <td>0.13</td>\n",
       "    </tr>\n",
       "    <tr>\n",
       "      <td>2</td>\n",
       "      <td>672.0</td>\n",
       "      <td>87.0</td>\n",
       "      <td>0.89</td>\n",
       "      <td>0.11</td>\n",
       "    </tr>\n",
       "    <tr>\n",
       "      <td>1</td>\n",
       "      <td>1059.0</td>\n",
       "      <td>122.0</td>\n",
       "      <td>0.90</td>\n",
       "      <td>0.10</td>\n",
       "    </tr>\n",
       "    <tr>\n",
       "      <td>3</td>\n",
       "      <td>385.0</td>\n",
       "      <td>44.0</td>\n",
       "      <td>0.90</td>\n",
       "      <td>0.10</td>\n",
       "    </tr>\n",
       "    <tr>\n",
       "      <td>9</td>\n",
       "      <td>NaN</td>\n",
       "      <td>2.0</td>\n",
       "      <td>NaN</td>\n",
       "      <td>NaN</td>\n",
       "    </tr>\n",
       "  </tbody>\n",
       "</table>\n",
       "</div>"
      ],
      "text/plain": [
       "churn                    False   True  no_churn_proportion  churn_proportion\n",
       "customer service calls                                                      \n",
       "6                          8.0   14.0                 0.36              0.64\n",
       "5                         26.0   40.0                 0.39              0.61\n",
       "7                          4.0    5.0                 0.44              0.56\n",
       "8                          1.0    1.0                 0.50              0.50\n",
       "4                         90.0   76.0                 0.54              0.46\n",
       "0                        605.0   92.0                 0.87              0.13\n",
       "2                        672.0   87.0                 0.89              0.11\n",
       "1                       1059.0  122.0                 0.90              0.10\n",
       "3                        385.0   44.0                 0.90              0.10\n",
       "9                          NaN    2.0                  NaN               NaN"
      ]
     },
     "execution_count": 20,
     "metadata": {},
     "output_type": "execute_result"
    }
   ],
   "source": [
    "#More frequent callers are more likely to churn...\n",
    "#likely calling because they are experiencing issues with the service\n",
    "\n",
    "customer_service_calls_df.sort_values(by = 'churn_proportion',ascending=False)"
   ]
  },
  {
   "cell_type": "markdown",
   "metadata": {},
   "source": [
    "# Cleaning + Preprocessing"
   ]
  },
  {
   "cell_type": "markdown",
   "metadata": {},
   "source": [
    "## Dropping columns"
   ]
  },
  {
   "cell_type": "code",
   "execution_count": 21,
   "metadata": {},
   "outputs": [],
   "source": [
    "#Phone number is unique. Dropping\n",
    "\n",
    "df = df.drop(columns='phone number',axis=1)"
   ]
  },
  {
   "cell_type": "markdown",
   "metadata": {},
   "source": [
    "## Dummy Variables"
   ]
  },
  {
   "cell_type": "code",
   "execution_count": 22,
   "metadata": {},
   "outputs": [],
   "source": [
    "#dummy variables \n",
    "\n",
    "df = pd.get_dummies(df)"
   ]
  },
  {
   "cell_type": "markdown",
   "metadata": {},
   "source": [
    "## Train-Test Split"
   ]
  },
  {
   "cell_type": "code",
   "execution_count": 23,
   "metadata": {},
   "outputs": [],
   "source": [
    "#Setting X and Y\n",
    "\n",
    "X = df.drop(columns='churn',axis=1)\n",
    "y = df.churn"
   ]
  },
  {
   "cell_type": "code",
   "execution_count": 24,
   "metadata": {},
   "outputs": [],
   "source": [
    "#Train test split\n",
    "\n",
    "X_train, X_test, y_train, y_test = train_test_split(X, y,\n",
    "                                                    test_size=0.25,\n",
    "                                                    random_state=31)"
   ]
  },
  {
   "cell_type": "markdown",
   "metadata": {},
   "source": [
    "## Scaling"
   ]
  },
  {
   "cell_type": "code",
   "execution_count": 25,
   "metadata": {},
   "outputs": [],
   "source": [
    "#Scaling X\n",
    "\n",
    "scaler = StandardScaler()\n",
    "\n",
    "X_train_scaled = scaler.fit_transform(X_train)\n",
    "X_train_scaled = pd.DataFrame(X_train_scaled, columns = X.columns)\n",
    "X_test_scaled = scaler.transform(X_test)\n",
    "X_test_scaled = pd.DataFrame(X_test_scaled, columns = X.columns)"
   ]
  },
  {
   "cell_type": "markdown",
   "metadata": {},
   "source": [
    "## Class Imbalance"
   ]
  },
  {
   "cell_type": "code",
   "execution_count": 26,
   "metadata": {},
   "outputs": [],
   "source": [
    "#Class imbalance (train data only)\n",
    "\n",
    "smote = SMOTE()\n",
    "X_train_smoted, y_train_smoted = smote.fit_sample(X_train_scaled, y_train)\n",
    "X_train_smoted = pd.DataFrame(X_train_smoted, columns = X.columns)"
   ]
  },
  {
   "cell_type": "code",
   "execution_count": 27,
   "metadata": {},
   "outputs": [
    {
     "data": {
      "text/plain": [
       "True     0.5\n",
       "False    0.5\n",
       "Name: churn, dtype: float64"
      ]
     },
     "execution_count": 27,
     "metadata": {},
     "output_type": "execute_result"
    }
   ],
   "source": [
    "y_train_smoted.value_counts(normalize=True)"
   ]
  },
  {
   "cell_type": "markdown",
   "metadata": {},
   "source": [
    "## Exporting modelling parts for later use"
   ]
  },
  {
   "cell_type": "code",
   "execution_count": 100,
   "metadata": {},
   "outputs": [
    {
     "data": {
      "text/plain": [
       "0       False\n",
       "1       False\n",
       "2       False\n",
       "3       False\n",
       "4       False\n",
       "        ...  \n",
       "4277     True\n",
       "4278     True\n",
       "4279     True\n",
       "4280     True\n",
       "4281     True\n",
       "Name: churn, Length: 4282, dtype: bool"
      ]
     },
     "execution_count": 100,
     "metadata": {},
     "output_type": "execute_result"
    }
   ],
   "source": [
    "pd.Datay_train_smoted"
   ]
  },
  {
   "cell_type": "code",
   "execution_count": 103,
   "metadata": {},
   "outputs": [],
   "source": [
    "X_train_smoted.to_csv('X_train_smoted_csv',index=False)\n",
    "y_train_smoted.to_csv('y_train_smoted_csv',header=\"Churn\",index=False)\n",
    "X_test_scaled.to_csv('X_test_scaled_csv',index=False)\n",
    "y_test.to_csv('y_test_csv',header=\"Churn\",index=False)"
   ]
  },
  {
   "cell_type": "markdown",
   "metadata": {},
   "source": [
    "# Testing Models"
   ]
  },
  {
   "cell_type": "markdown",
   "metadata": {},
   "source": [
    "We're going to run the \"un-tuned\" version of various models and move forward and tune the top 3. The following will be tested:\n",
    "\n",
    "- KNN\n",
    "- Naive Bayes\n",
    "- Decision Trees\n",
    "- Bagged Trees\n",
    "- Random Forest\n",
    "- Adaboost\n",
    "- Gradient Boosting\n",
    "- XGBoost\n",
    "- SVM"
   ]
  },
  {
   "cell_type": "markdown",
   "metadata": {},
   "source": [
    "## Model Formula"
   ]
  },
  {
   "cell_type": "code",
   "execution_count": 28,
   "metadata": {},
   "outputs": [],
   "source": [
    "#Creating a df to store the results in\n",
    "\n",
    "results_df = pd.DataFrame(columns=['model','precision','accuracy','recall','f1'])"
   ]
  },
  {
   "cell_type": "code",
   "execution_count": 29,
   "metadata": {},
   "outputs": [],
   "source": [
    "def quick_model(model, model_name):\n",
    "    label = print(\"Model:\",model_name)\n",
    "    model.fit(X_train_smoted,y_train_smoted)\n",
    "    \n",
    "    #training\n",
    "    print(\"\")\n",
    "    print(\"--------------------------------\")\n",
    "    print(\"Train Data\")\n",
    "    print(\"--------------------------------\")\n",
    "    print(\"\")\n",
    "    y_train_pred = model.predict(X_train_smoted)\n",
    "    print(classification_report(y_train_smoted, y_train_pred))\n",
    "    \n",
    "    \n",
    "\n",
    "    #testing\n",
    "    print(\"--------------------------------\")\n",
    "    print(\"Test Data\")\n",
    "    print(\"--------------------------------\")\n",
    "    print(\"\")\n",
    "    y_test_pred = model.predict(X_test_scaled)\n",
    "    print(classification_report(y_test, y_test_pred)) \n",
    "    \n",
    "    results = {'model': model_name}\n",
    "    results['precision'] = precision_score(y_test, y_test_pred)\n",
    "    results['accuracy'] = accuracy_score(y_test, y_test_pred)\n",
    "    results['recall'] = recall_score(y_test, y_test_pred)\n",
    "    results['f1'] = f1_score(y_test, y_test_pred)\n",
    "    \n",
    "    \n",
    "    #Confusion Matrix\n",
    "    print(\"--------------------------------\")\n",
    "    print(\"Confusion Matrix\")\n",
    "    print(\"--------------------------------\")\n",
    "    print(\"\")\n",
    "    plot_confusion_matrix(model,X_test_scaled, y_test,normalize='true',cmap=plt.cm.Blues)\n",
    "    plt.show()\n",
    "    print(\"\")\n",
    "    cdf = pd.DataFrame(confusion_matrix(y_test, y_test_pred),index=['True 0', 'True 1'], \n",
    "    columns=['Predicted 0', 'Predicted 1'])\n",
    "    print(cdf)\n",
    "\n",
    "    return results"
   ]
  },
  {
   "cell_type": "markdown",
   "metadata": {},
   "source": [
    "## KNN"
   ]
  },
  {
   "cell_type": "code",
   "execution_count": 86,
   "metadata": {},
   "outputs": [
    {
     "name": "stdout",
     "output_type": "stream",
     "text": [
      "Best Value for k: 16\n",
      "F1-Score: 0.347394540942928\n"
     ]
    }
   ],
   "source": [
    "# find best n_neighbors \n",
    "best_n = 0\n",
    "best_score = 0.0\n",
    "for n in range(1, 101, 1):\n",
    "    knn = KNeighborsClassifier(n_neighbors=n)\n",
    "    knn.fit(X_train_smoted, y_train_smoted)\n",
    "    y_pred = knn.predict(X_test_scaled)\n",
    "    f1 = f1_score(y_test, y_pred)\n",
    "    if f1 > best_score:\n",
    "        best_n = n\n",
    "        best_score = f1\n",
    "\n",
    "print(\"Best Value for k: {}\".format(best_n))\n",
    "print(\"F1-Score: {}\".format(best_score))\n"
   ]
  },
  {
   "cell_type": "code",
   "execution_count": 93,
   "metadata": {},
   "outputs": [
    {
     "name": "stdout",
     "output_type": "stream",
     "text": [
      "Model: K Nearest Neighbors\n",
      "\n",
      "--------------------------------\n",
      "Train Data\n",
      "--------------------------------\n",
      "\n",
      "              precision    recall  f1-score   support\n",
      "\n",
      "       False       0.91      0.74      0.82      2141\n",
      "        True       0.78      0.93      0.85      2141\n",
      "\n",
      "    accuracy                           0.84      4282\n",
      "   macro avg       0.85      0.84      0.83      4282\n",
      "weighted avg       0.85      0.84      0.83      4282\n",
      "\n",
      "--------------------------------\n",
      "Test Data\n",
      "--------------------------------\n",
      "\n",
      "              precision    recall  f1-score   support\n",
      "\n",
      "       False       0.90      0.71      0.79       709\n",
      "        True       0.25      0.56      0.35       125\n",
      "\n",
      "    accuracy                           0.68       834\n",
      "   macro avg       0.58      0.63      0.57       834\n",
      "weighted avg       0.80      0.68      0.73       834\n",
      "\n",
      "--------------------------------\n",
      "Confusion Matrix\n",
      "--------------------------------\n",
      "\n"
     ]
    },
    {
     "data": {
      "image/png": "[encoded data removed]",
      "text/plain": [
       "<Figure size 432x288 with 2 Axes>"
      ]
     },
     "metadata": {
      "needs_background": "light"
     },
     "output_type": "display_data"
    },
    {
     "name": "stdout",
     "output_type": "stream",
     "text": [
      "\n",
      "        Predicted 0  Predicted 1\n",
      "True 0          501          208\n",
      "True 1           55           70\n"
     ]
    }
   ],
   "source": [
    "knn = KNeighborsClassifier(n_neighbors=best_n)\n",
    "knn_results = quick_model(knn, 'K Nearest Neighbors')\n",
    "knn_df = pd.DataFrame([knn_results], columns=knn_results.keys())\n",
    "results_df = results_df.append(knn_df)"
   ]
  },
  {
   "cell_type": "markdown",
   "metadata": {},
   "source": [
    "## Naive Bayes"
   ]
  },
  {
   "cell_type": "code",
   "execution_count": 33,
   "metadata": {},
   "outputs": [
    {
     "name": "stdout",
     "output_type": "stream",
     "text": [
      "Model: Naive Bayes\n",
      "\n",
      "--------------------------------\n",
      "Train Data\n",
      "--------------------------------\n",
      "\n",
      "              precision    recall  f1-score   support\n",
      "\n",
      "       False       0.71      0.51      0.59      2141\n",
      "        True       0.62      0.80      0.70      2141\n",
      "\n",
      "    accuracy                           0.65      4282\n",
      "   macro avg       0.67      0.65      0.64      4282\n",
      "weighted avg       0.67      0.65      0.64      4282\n",
      "\n",
      "--------------------------------\n",
      "Test Data\n",
      "--------------------------------\n",
      "\n",
      "              precision    recall  f1-score   support\n",
      "\n",
      "       False       0.88      0.54      0.67       709\n",
      "        True       0.18      0.58      0.28       125\n",
      "\n",
      "    accuracy                           0.54       834\n",
      "   macro avg       0.53      0.56      0.47       834\n",
      "weighted avg       0.78      0.54      0.61       834\n",
      "\n",
      "--------------------------------\n",
      "Confusion Matrix\n",
      "--------------------------------\n",
      "\n"
     ]
    },
    {
     "data": {
      "image/png": "[encoded data removed]",
      "text/plain": [
       "<Figure size 432x288 with 2 Axes>"
      ]
     },
     "metadata": {
      "needs_background": "light"
     },
     "output_type": "display_data"
    },
    {
     "name": "stdout",
     "output_type": "stream",
     "text": [
      "\n",
      "        Predicted 0  Predicted 1\n",
      "True 0          381          328\n",
      "True 1           52           73\n"
     ]
    }
   ],
   "source": [
    "nb = GaussianNB()\n",
    "nb_results = quick_model(nb, 'Naive Bayes')\n",
    "nb_df = pd.DataFrame([nb_results], columns=nb_results.keys())\n",
    "results_df = results_df.append(nb_df)"
   ]
  },
  {
   "cell_type": "markdown",
   "metadata": {},
   "source": [
    "## Decision Tree"
   ]
  },
  {
   "cell_type": "code",
   "execution_count": 34,
   "metadata": {},
   "outputs": [
    {
     "name": "stdout",
     "output_type": "stream",
     "text": [
      "Model: Decision Tree\n",
      "\n",
      "--------------------------------\n",
      "Train Data\n",
      "--------------------------------\n",
      "\n",
      "              precision    recall  f1-score   support\n",
      "\n",
      "       False       1.00      1.00      1.00      2141\n",
      "        True       1.00      1.00      1.00      2141\n",
      "\n",
      "    accuracy                           1.00      4282\n",
      "   macro avg       1.00      1.00      1.00      4282\n",
      "weighted avg       1.00      1.00      1.00      4282\n",
      "\n",
      "--------------------------------\n",
      "Test Data\n",
      "--------------------------------\n",
      "\n",
      "              precision    recall  f1-score   support\n",
      "\n",
      "       False       0.96      0.92      0.94       709\n",
      "        True       0.63      0.76      0.69       125\n",
      "\n",
      "    accuracy                           0.90       834\n",
      "   macro avg       0.79      0.84      0.81       834\n",
      "weighted avg       0.91      0.90      0.90       834\n",
      "\n",
      "--------------------------------\n",
      "Confusion Matrix\n",
      "--------------------------------\n",
      "\n"
     ]
    },
    {
     "data": {
      "image/png": "[encoded data removed]",
      "text/plain": [
       "<Figure size 432x288 with 2 Axes>"
      ]
     },
     "metadata": {
      "needs_background": "light"
     },
     "output_type": "display_data"
    },
    {
     "name": "stdout",
     "output_type": "stream",
     "text": [
      "\n",
      "        Predicted 0  Predicted 1\n",
      "True 0          653           56\n",
      "True 1           30           95\n"
     ]
    }
   ],
   "source": [
    "dt = DecisionTreeClassifier()\n",
    "dt_results = quick_model(dt, 'Decision Tree')\n",
    "dt_df = pd.DataFrame([dt_results], columns=dt_results.keys())\n",
    "results_df = results_df.append(dt_df)"
   ]
  },
  {
   "cell_type": "markdown",
   "metadata": {},
   "source": [
    "## Bagged Trees"
   ]
  },
  {
   "cell_type": "code",
   "execution_count": 35,
   "metadata": {},
   "outputs": [
    {
     "name": "stdout",
     "output_type": "stream",
     "text": [
      "Model: Bagged Trees\n",
      "\n",
      "--------------------------------\n",
      "Train Data\n",
      "--------------------------------\n",
      "\n",
      "              precision    recall  f1-score   support\n",
      "\n",
      "       False       0.99      1.00      1.00      2141\n",
      "        True       1.00      0.99      1.00      2141\n",
      "\n",
      "    accuracy                           1.00      4282\n",
      "   macro avg       1.00      1.00      1.00      4282\n",
      "weighted avg       1.00      1.00      1.00      4282\n",
      "\n",
      "--------------------------------\n",
      "Test Data\n",
      "--------------------------------\n",
      "\n",
      "              precision    recall  f1-score   support\n",
      "\n",
      "       False       0.95      0.97      0.96       709\n",
      "        True       0.79      0.70      0.75       125\n",
      "\n",
      "    accuracy                           0.93       834\n",
      "   macro avg       0.87      0.84      0.85       834\n",
      "weighted avg       0.93      0.93      0.93       834\n",
      "\n",
      "--------------------------------\n",
      "Confusion Matrix\n",
      "--------------------------------\n",
      "\n"
     ]
    },
    {
     "data": {
      "image/png": "[encoded data removed]",
      "text/plain": [
       "<Figure size 432x288 with 2 Axes>"
      ]
     },
     "metadata": {
      "needs_background": "light"
     },
     "output_type": "display_data"
    },
    {
     "name": "stdout",
     "output_type": "stream",
     "text": [
      "\n",
      "        Predicted 0  Predicted 1\n",
      "True 0          686           23\n",
      "True 1           37           88\n"
     ]
    }
   ],
   "source": [
    "bt = BaggingClassifier()\n",
    "bt_results = quick_model(bt, 'Bagged Trees')\n",
    "bt_df = pd.DataFrame([bt_results], columns=bt_results.keys())\n",
    "results_df = results_df.append(bt_df)"
   ]
  },
  {
   "cell_type": "markdown",
   "metadata": {},
   "source": [
    "## Random Forest"
   ]
  },
  {
   "cell_type": "code",
   "execution_count": 36,
   "metadata": {},
   "outputs": [
    {
     "name": "stdout",
     "output_type": "stream",
     "text": [
      "Model: Random Forest\n",
      "\n",
      "--------------------------------\n",
      "Train Data\n",
      "--------------------------------\n",
      "\n",
      "              precision    recall  f1-score   support\n",
      "\n",
      "       False       1.00      1.00      1.00      2141\n",
      "        True       1.00      1.00      1.00      2141\n",
      "\n",
      "    accuracy                           1.00      4282\n",
      "   macro avg       1.00      1.00      1.00      4282\n",
      "weighted avg       1.00      1.00      1.00      4282\n",
      "\n",
      "--------------------------------\n",
      "Test Data\n",
      "--------------------------------\n",
      "\n",
      "              precision    recall  f1-score   support\n",
      "\n",
      "       False       0.95      0.95      0.95       709\n",
      "        True       0.72      0.70      0.71       125\n",
      "\n",
      "    accuracy                           0.91       834\n",
      "   macro avg       0.83      0.82      0.83       834\n",
      "weighted avg       0.91      0.91      0.91       834\n",
      "\n",
      "--------------------------------\n",
      "Confusion Matrix\n",
      "--------------------------------\n",
      "\n"
     ]
    },
    {
     "data": {
      "image/png": "[encoded data removed]",
      "text/plain": [
       "<Figure size 432x288 with 2 Axes>"
      ]
     },
     "metadata": {
      "needs_background": "light"
     },
     "output_type": "display_data"
    },
    {
     "name": "stdout",
     "output_type": "stream",
     "text": [
      "\n",
      "        Predicted 0  Predicted 1\n",
      "True 0          675           34\n",
      "True 1           38           87\n"
     ]
    }
   ],
   "source": [
    "rf = RandomForestClassifier()\n",
    "rf_results = quick_model(rf, 'Random Forest')\n",
    "rf_df = pd.DataFrame([rf_results], columns=rf_results.keys())\n",
    "results_df = results_df.append(rf_df)"
   ]
  },
  {
   "cell_type": "markdown",
   "metadata": {},
   "source": [
    "## Adaboost"
   ]
  },
  {
   "cell_type": "code",
   "execution_count": 37,
   "metadata": {},
   "outputs": [
    {
     "name": "stdout",
     "output_type": "stream",
     "text": [
      "Model: Adaboost\n",
      "\n",
      "--------------------------------\n",
      "Train Data\n",
      "--------------------------------\n",
      "\n",
      "              precision    recall  f1-score   support\n",
      "\n",
      "       False       0.90      0.91      0.90      2141\n",
      "        True       0.91      0.90      0.90      2141\n",
      "\n",
      "    accuracy                           0.90      4282\n",
      "   macro avg       0.90      0.90      0.90      4282\n",
      "weighted avg       0.90      0.90      0.90      4282\n",
      "\n",
      "--------------------------------\n",
      "Test Data\n",
      "--------------------------------\n",
      "\n",
      "              precision    recall  f1-score   support\n",
      "\n",
      "       False       0.92      0.91      0.91       709\n",
      "        True       0.52      0.55      0.53       125\n",
      "\n",
      "    accuracy                           0.86       834\n",
      "   macro avg       0.72      0.73      0.72       834\n",
      "weighted avg       0.86      0.86      0.86       834\n",
      "\n",
      "--------------------------------\n",
      "Confusion Matrix\n",
      "--------------------------------\n",
      "\n"
     ]
    },
    {
     "data": {
      "image/png": "[encoded data removed]",
      "text/plain": [
       "<Figure size 432x288 with 2 Axes>"
      ]
     },
     "metadata": {
      "needs_background": "light"
     },
     "output_type": "display_data"
    },
    {
     "name": "stdout",
     "output_type": "stream",
     "text": [
      "\n",
      "        Predicted 0  Predicted 1\n",
      "True 0          645           64\n",
      "True 1           56           69\n"
     ]
    }
   ],
   "source": [
    "ab = AdaBoostClassifier()\n",
    "ab_results = quick_model(ab, 'Adaboost')\n",
    "ab_df = pd.DataFrame([ab_results], columns=ab_results.keys())\n",
    "results_df = results_df.append(ab_df)"
   ]
  },
  {
   "cell_type": "markdown",
   "metadata": {},
   "source": [
    "## Gradient Boosting"
   ]
  },
  {
   "cell_type": "code",
   "execution_count": 38,
   "metadata": {},
   "outputs": [
    {
     "name": "stdout",
     "output_type": "stream",
     "text": [
      "Model: Gradient Boosting\n",
      "\n",
      "--------------------------------\n",
      "Train Data\n",
      "--------------------------------\n",
      "\n",
      "              precision    recall  f1-score   support\n",
      "\n",
      "       False       0.96      0.98      0.97      2141\n",
      "        True       0.98      0.95      0.97      2141\n",
      "\n",
      "    accuracy                           0.97      4282\n",
      "   macro avg       0.97      0.97      0.97      4282\n",
      "weighted avg       0.97      0.97      0.97      4282\n",
      "\n",
      "--------------------------------\n",
      "Test Data\n",
      "--------------------------------\n",
      "\n",
      "              precision    recall  f1-score   support\n",
      "\n",
      "       False       0.96      0.97      0.97       709\n",
      "        True       0.84      0.77      0.80       125\n",
      "\n",
      "    accuracy                           0.94       834\n",
      "   macro avg       0.90      0.87      0.89       834\n",
      "weighted avg       0.94      0.94      0.94       834\n",
      "\n",
      "--------------------------------\n",
      "Confusion Matrix\n",
      "--------------------------------\n",
      "\n"
     ]
    },
    {
     "data": {
      "image/png": "[encoded data removed]",
      "text/plain": [
       "<Figure size 432x288 with 2 Axes>"
      ]
     },
     "metadata": {
      "needs_background": "light"
     },
     "output_type": "display_data"
    },
    {
     "name": "stdout",
     "output_type": "stream",
     "text": [
      "\n",
      "        Predicted 0  Predicted 1\n",
      "True 0          691           18\n",
      "True 1           29           96\n"
     ]
    }
   ],
   "source": [
    "gb = GradientBoostingClassifier()\n",
    "gb_results = quick_model(gb, 'Gradient Boosting')\n",
    "gb_df = pd.DataFrame([gb_results], columns=gb_results.keys())\n",
    "results_df = results_df.append(gb_df)"
   ]
  },
  {
   "cell_type": "markdown",
   "metadata": {},
   "source": [
    "## XGBoost"
   ]
  },
  {
   "cell_type": "code",
   "execution_count": 39,
   "metadata": {},
   "outputs": [
    {
     "name": "stdout",
     "output_type": "stream",
     "text": [
      "Model: XGBoost\n",
      "\n",
      "--------------------------------\n",
      "Train Data\n",
      "--------------------------------\n",
      "\n",
      "              precision    recall  f1-score   support\n",
      "\n",
      "       False       0.95      0.98      0.97      2141\n",
      "        True       0.98      0.95      0.97      2141\n",
      "\n",
      "    accuracy                           0.97      4282\n",
      "   macro avg       0.97      0.97      0.97      4282\n",
      "weighted avg       0.97      0.97      0.97      4282\n",
      "\n",
      "--------------------------------\n",
      "Test Data\n",
      "--------------------------------\n",
      "\n",
      "              precision    recall  f1-score   support\n",
      "\n",
      "       False       0.96      0.98      0.97       709\n",
      "        True       0.85      0.75      0.80       125\n",
      "\n",
      "    accuracy                           0.94       834\n",
      "   macro avg       0.90      0.86      0.88       834\n",
      "weighted avg       0.94      0.94      0.94       834\n",
      "\n",
      "--------------------------------\n",
      "Confusion Matrix\n",
      "--------------------------------\n",
      "\n"
     ]
    },
    {
     "data": {
      "image/png": "[encoded data removed]",
      "text/plain": [
       "<Figure size 432x288 with 2 Axes>"
      ]
     },
     "metadata": {
      "needs_background": "light"
     },
     "output_type": "display_data"
    },
    {
     "name": "stdout",
     "output_type": "stream",
     "text": [
      "\n",
      "        Predicted 0  Predicted 1\n",
      "True 0          692           17\n",
      "True 1           31           94\n"
     ]
    }
   ],
   "source": [
    "xb = XGBClassifier()\n",
    "xb_results = quick_model(xb, 'XGBoost')\n",
    "xb_df = pd.DataFrame([xb_results], columns=xb_results.keys())\n",
    "results_df = results_df.append(xb_df)"
   ]
  },
  {
   "cell_type": "markdown",
   "metadata": {},
   "source": [
    "## SVM"
   ]
  },
  {
   "cell_type": "code",
   "execution_count": 40,
   "metadata": {},
   "outputs": [
    {
     "name": "stdout",
     "output_type": "stream",
     "text": [
      "Model: SVM\n",
      "\n",
      "--------------------------------\n",
      "Train Data\n",
      "--------------------------------\n",
      "\n",
      "              precision    recall  f1-score   support\n",
      "\n",
      "       False       0.97      0.92      0.94      2141\n",
      "        True       0.92      0.97      0.94      2141\n",
      "\n",
      "    accuracy                           0.94      4282\n",
      "   macro avg       0.94      0.94      0.94      4282\n",
      "weighted avg       0.94      0.94      0.94      4282\n",
      "\n",
      "--------------------------------\n",
      "Test Data\n",
      "--------------------------------\n",
      "\n",
      "              precision    recall  f1-score   support\n",
      "\n",
      "       False       0.91      0.89      0.90       709\n",
      "        True       0.46      0.53      0.49       125\n",
      "\n",
      "    accuracy                           0.83       834\n",
      "   macro avg       0.68      0.71      0.70       834\n",
      "weighted avg       0.85      0.83      0.84       834\n",
      "\n",
      "--------------------------------\n",
      "Confusion Matrix\n",
      "--------------------------------\n",
      "\n"
     ]
    },
    {
     "data": {
      "image/png": "[encoded data removed]",
      "text/plain": [
       "<Figure size 432x288 with 2 Axes>"
      ]
     },
     "metadata": {
      "needs_background": "light"
     },
     "output_type": "display_data"
    },
    {
     "name": "stdout",
     "output_type": "stream",
     "text": [
      "\n",
      "        Predicted 0  Predicted 1\n",
      "True 0          630           79\n",
      "True 1           59           66\n"
     ]
    }
   ],
   "source": [
    "svm = SVC()\n",
    "svm_results = quick_model(svm, 'SVM')\n",
    "svm_df = pd.DataFrame([svm_results], columns=svm_results.keys())\n",
    "results_df = results_df.append(svm_df)"
   ]
  },
  {
   "cell_type": "markdown",
   "metadata": {},
   "source": [
    "# Initial Model Evaluation"
   ]
  },
  {
   "cell_type": "markdown",
   "metadata": {},
   "source": [
    "## How are we evaluating our models?"
   ]
  },
  {
   "cell_type": "markdown",
   "metadata": {},
   "source": [
    "To better understand why a customer churns, we want to ensure our model has high <b>recall</b> and <b>precision scores</b>. \n",
    "\n",
    "Recall is especially important because a higher recall score ensures we are accurately predicting who will churn (there is a high cost associated with False Negative i.e, predicting someone will not churn and they actually do churn). Recall tells us what percentage of customers that end up churning the algorithm successfully finds. It is important that we manage against false negatives as these would lead us to miss a customer's potential to churn and, in turn, lose business. \n",
    "\n",
    "Precision will give us a sense of how well the model does at predicting churn. This differs from recall in that false positives (predicting churn that doesn't happen) are of a higher cost(instead of false negatives). It is important that our precision score is also high so we don't waste resources trying to prevent churn on people who won't churn. "
   ]
  },
  {
   "cell_type": "markdown",
   "metadata": {},
   "source": [
    "## Model Ranking"
   ]
  },
  {
   "cell_type": "code",
   "execution_count": 94,
   "metadata": {
    "scrolled": true
   },
   "outputs": [
    {
     "data": {
      "text/html": [
       "<div>\n",
       "<style scoped>\n",
       "    .dataframe tbody tr th:only-of-type {\n",
       "        vertical-align: middle;\n",
       "    }\n",
       "\n",
       "    .dataframe tbody tr th {\n",
       "        vertical-align: top;\n",
       "    }\n",
       "\n",
       "    .dataframe thead th {\n",
       "        text-align: right;\n",
       "    }\n",
       "</style>\n",
       "<table border=\"1\" class=\"dataframe\">\n",
       "  <thead>\n",
       "    <tr style=\"text-align: right;\">\n",
       "      <th></th>\n",
       "      <th>model</th>\n",
       "      <th>precision</th>\n",
       "      <th>accuracy</th>\n",
       "      <th>recall</th>\n",
       "      <th>f1</th>\n",
       "    </tr>\n",
       "  </thead>\n",
       "  <tbody>\n",
       "    <tr>\n",
       "      <td>0</td>\n",
       "      <td>Gradient Boosting</td>\n",
       "      <td>0.842105</td>\n",
       "      <td>0.943645</td>\n",
       "      <td>0.768</td>\n",
       "      <td>0.803347</td>\n",
       "    </tr>\n",
       "    <tr>\n",
       "      <td>1</td>\n",
       "      <td>Decision Tree</td>\n",
       "      <td>0.629139</td>\n",
       "      <td>0.896882</td>\n",
       "      <td>0.760</td>\n",
       "      <td>0.688406</td>\n",
       "    </tr>\n",
       "    <tr>\n",
       "      <td>2</td>\n",
       "      <td>XGBoost</td>\n",
       "      <td>0.846847</td>\n",
       "      <td>0.942446</td>\n",
       "      <td>0.752</td>\n",
       "      <td>0.796610</td>\n",
       "    </tr>\n",
       "    <tr>\n",
       "      <td>3</td>\n",
       "      <td>Bagged Trees</td>\n",
       "      <td>0.792793</td>\n",
       "      <td>0.928058</td>\n",
       "      <td>0.704</td>\n",
       "      <td>0.745763</td>\n",
       "    </tr>\n",
       "    <tr>\n",
       "      <td>4</td>\n",
       "      <td>Random Forest</td>\n",
       "      <td>0.719008</td>\n",
       "      <td>0.913669</td>\n",
       "      <td>0.696</td>\n",
       "      <td>0.707317</td>\n",
       "    </tr>\n",
       "    <tr>\n",
       "      <td>5</td>\n",
       "      <td>Naive Bayes</td>\n",
       "      <td>0.182045</td>\n",
       "      <td>0.544365</td>\n",
       "      <td>0.584</td>\n",
       "      <td>0.277567</td>\n",
       "    </tr>\n",
       "    <tr>\n",
       "      <td>6</td>\n",
       "      <td>K Nearest Neighbors</td>\n",
       "      <td>0.251799</td>\n",
       "      <td>0.684652</td>\n",
       "      <td>0.560</td>\n",
       "      <td>0.347395</td>\n",
       "    </tr>\n",
       "    <tr>\n",
       "      <td>7</td>\n",
       "      <td>Adaboost</td>\n",
       "      <td>0.518797</td>\n",
       "      <td>0.856115</td>\n",
       "      <td>0.552</td>\n",
       "      <td>0.534884</td>\n",
       "    </tr>\n",
       "    <tr>\n",
       "      <td>8</td>\n",
       "      <td>SVM</td>\n",
       "      <td>0.455172</td>\n",
       "      <td>0.834532</td>\n",
       "      <td>0.528</td>\n",
       "      <td>0.488889</td>\n",
       "    </tr>\n",
       "  </tbody>\n",
       "</table>\n",
       "</div>"
      ],
      "text/plain": [
       "                 model  precision  accuracy  recall        f1\n",
       "0    Gradient Boosting   0.842105  0.943645   0.768  0.803347\n",
       "1        Decision Tree   0.629139  0.896882   0.760  0.688406\n",
       "2              XGBoost   0.846847  0.942446   0.752  0.796610\n",
       "3         Bagged Trees   0.792793  0.928058   0.704  0.745763\n",
       "4        Random Forest   0.719008  0.913669   0.696  0.707317\n",
       "5          Naive Bayes   0.182045  0.544365   0.584  0.277567\n",
       "6  K Nearest Neighbors   0.251799  0.684652   0.560  0.347395\n",
       "7             Adaboost   0.518797  0.856115   0.552  0.534884\n",
       "8                  SVM   0.455172  0.834532   0.528  0.488889"
      ]
     },
     "execution_count": 94,
     "metadata": {},
     "output_type": "execute_result"
    }
   ],
   "source": [
    "#Sorting by recall then precision\n",
    "results_df.sort_values(by=['recall','precision'],ascending=False).reset_index(drop=True)"
   ]
  },
  {
   "cell_type": "markdown",
   "metadata": {},
   "source": [
    "Based on the recall and precision scores, we'll move forward by refining the <b>Gradient Boosting, XGBoost and Bagged Tree Models</b> using Gridsearch. \n",
    "\n",
    "While Decision Trees demonstrated the high recall score, the precision score is one of the lowest. "
   ]
  },
  {
   "cell_type": "code",
   "execution_count": 42,
   "metadata": {},
   "outputs": [],
   "source": [
    "# Storing this df for quicker access later\n",
    "\n",
    "results_df.sort_values(by=['recall','precision'],ascending=False).reset_index(drop=True).to_csv('vanilla_models_df',index=False)"
   ]
  },
  {
   "cell_type": "markdown",
   "metadata": {},
   "source": [
    "# Refining models using GridSearch"
   ]
  },
  {
   "cell_type": "code",
   "execution_count": 62,
   "metadata": {},
   "outputs": [],
   "source": [
    "#Adjusting this formula to also save the best parameters for future use\n",
    "\n",
    "def quick_model_gridsearch(model, model_name):\n",
    "    label = print(\"Model:\",model_name)\n",
    "    model.fit(X_train_smoted,y_train_smoted)\n",
    "    \n",
    "    #training\n",
    "    print(\"\")\n",
    "    print(\"--------------------------------\")\n",
    "    print(\"Train Data\")\n",
    "    print(\"--------------------------------\")\n",
    "    print(\"\")\n",
    "    y_train_pred = model.predict(X_train_smoted)\n",
    "    print(classification_report(y_train_smoted, y_train_pred))\n",
    "    \n",
    "    \n",
    "\n",
    "    #testing\n",
    "    print(\"--------------------------------\")\n",
    "    print(\"Test Data\")\n",
    "    print(\"--------------------------------\")\n",
    "    print(\"\")\n",
    "    y_test_pred = model.predict(X_test_scaled)\n",
    "    print(classification_report(y_test, y_test_pred))\n",
    "    print(\"\")\n",
    "    print(\"\")\n",
    "    print(model.best_params_)\n",
    "    \n",
    "    results = {'model': model_name}\n",
    "    results['precision'] = precision_score(y_test, y_test_pred)\n",
    "    results['accuracy'] = accuracy_score(y_test, y_test_pred)\n",
    "    results['recall'] = recall_score(y_test, y_test_pred)\n",
    "    results['f1'] = f1_score(y_test, y_test_pred)\n",
    "    results['best_params'] = model.best_params_\n",
    "    \n",
    "    \n",
    "    #Confusion Matrix\n",
    "    print(\"--------------------------------\")\n",
    "    print(\"Confusion Matrix\")\n",
    "    print(\"--------------------------------\")\n",
    "    print(\"\")\n",
    "    plot_confusion_matrix(model,X_test_scaled, y_test,normalize='true',cmap=plt.cm.Blues)\n",
    "    plt.show()\n",
    "    print(\"\")\n",
    "    cdf = pd.DataFrame(confusion_matrix(y_test, y_test_pred),index=['True 0', 'True 1'], \n",
    "    columns=['Predicted 0', 'Predicted 1'])\n",
    "    print(cdf)\n",
    "\n",
    "    return results"
   ]
  },
  {
   "cell_type": "code",
   "execution_count": 63,
   "metadata": {},
   "outputs": [],
   "source": [
    "refined_results_df = pd.DataFrame(columns=['model','precision','accuracy','recall','f1','best_params'])"
   ]
  },
  {
   "cell_type": "markdown",
   "metadata": {},
   "source": [
    "## Gradient Boosting"
   ]
  },
  {
   "cell_type": "code",
   "execution_count": 64,
   "metadata": {},
   "outputs": [],
   "source": [
    "param_grid = {\n",
    "    \"learning_rate\": [0.1,0.01,0.5],\n",
    "    'max_depth': [2, 3,4, 6],\n",
    "    \"min_samples_split\": [2,4,6],\n",
    "    \"min_samples_leaf\": [1,2,4,6],\n",
    "    'subsample': [0.7,1],\n",
    "    'n_estimators': [5, 30, 100, 250],\n",
    "}"
   ]
  },
  {
   "cell_type": "code",
   "execution_count": 65,
   "metadata": {},
   "outputs": [
    {
     "name": "stdout",
     "output_type": "stream",
     "text": [
      "Model: Gradient Boosting GridSearch\n",
      "\n",
      "--------------------------------\n",
      "Train Data\n",
      "--------------------------------\n",
      "\n",
      "              precision    recall  f1-score   support\n",
      "\n",
      "       False       0.97      0.99      0.98      2141\n",
      "        True       0.98      0.96      0.97      2141\n",
      "\n",
      "    accuracy                           0.98      4282\n",
      "   macro avg       0.98      0.98      0.98      4282\n",
      "weighted avg       0.98      0.98      0.98      4282\n",
      "\n",
      "--------------------------------\n",
      "Test Data\n",
      "--------------------------------\n",
      "\n",
      "              precision    recall  f1-score   support\n",
      "\n",
      "       False       0.96      0.97      0.97       709\n",
      "        True       0.83      0.77      0.80       125\n",
      "\n",
      "    accuracy                           0.94       834\n",
      "   macro avg       0.89      0.87      0.88       834\n",
      "weighted avg       0.94      0.94      0.94       834\n",
      "\n",
      "\n",
      "\n",
      "{'learning_rate': 0.1, 'max_depth': 6, 'min_samples_leaf': 2, 'min_samples_split': 4, 'n_estimators': 30, 'subsample': 0.7}\n",
      "--------------------------------\n",
      "Confusion Matrix\n",
      "--------------------------------\n",
      "\n"
     ]
    },
    {
     "data": {
      "image/png": "[encoded data removed]",
      "text/plain": [
       "<Figure size 432x288 with 2 Axes>"
      ]
     },
     "metadata": {
      "needs_background": "light"
     },
     "output_type": "display_data"
    },
    {
     "name": "stdout",
     "output_type": "stream",
     "text": [
      "\n",
      "        Predicted 0  Predicted 1\n",
      "True 0          689           20\n",
      "True 1           29           96\n"
     ]
    }
   ],
   "source": [
    "gb = GradientBoostingClassifier()\n",
    "grid_gb = GridSearchCV(gb, param_grid, scoring='recall', cv=3, n_jobs=1)\n",
    "grid_gb_results = quick_model_gridsearch(grid_gb, 'Gradient Boosting GridSearch')\n",
    "grid_gb_results_df = pd.DataFrame([grid_gb_results], columns=grid_gb_results.keys())\n",
    "refined_results_df = refined_results_df.append(grid_gb_results_df)"
   ]
  },
  {
   "cell_type": "code",
   "execution_count": 66,
   "metadata": {},
   "outputs": [
    {
     "data": {
      "text/html": [
       "<div>\n",
       "<style scoped>\n",
       "    .dataframe tbody tr th:only-of-type {\n",
       "        vertical-align: middle;\n",
       "    }\n",
       "\n",
       "    .dataframe tbody tr th {\n",
       "        vertical-align: top;\n",
       "    }\n",
       "\n",
       "    .dataframe thead th {\n",
       "        text-align: right;\n",
       "    }\n",
       "</style>\n",
       "<table border=\"1\" class=\"dataframe\">\n",
       "  <thead>\n",
       "    <tr style=\"text-align: right;\">\n",
       "      <th></th>\n",
       "      <th>model</th>\n",
       "      <th>precision</th>\n",
       "      <th>accuracy</th>\n",
       "      <th>recall</th>\n",
       "      <th>f1</th>\n",
       "      <th>best_params</th>\n",
       "    </tr>\n",
       "  </thead>\n",
       "  <tbody>\n",
       "    <tr>\n",
       "      <td>0</td>\n",
       "      <td>Gradient Boosting GridSearch</td>\n",
       "      <td>0.827586</td>\n",
       "      <td>0.941247</td>\n",
       "      <td>0.768</td>\n",
       "      <td>0.79668</td>\n",
       "      <td>{'learning_rate': 0.1, 'max_depth': 6, 'min_sa...</td>\n",
       "    </tr>\n",
       "  </tbody>\n",
       "</table>\n",
       "</div>"
      ],
      "text/plain": [
       "                          model  precision  accuracy  recall       f1  \\\n",
       "0  Gradient Boosting GridSearch   0.827586  0.941247   0.768  0.79668   \n",
       "\n",
       "                                         best_params  \n",
       "0  {'learning_rate': 0.1, 'max_depth': 6, 'min_sa...  "
      ]
     },
     "execution_count": 66,
     "metadata": {},
     "output_type": "execute_result"
    }
   ],
   "source": [
    "refined_results_df[refined_results_df.model == 'Gradient Boosting GridSearch']"
   ]
  },
  {
   "cell_type": "code",
   "execution_count": 95,
   "metadata": {},
   "outputs": [
    {
     "data": {
      "text/html": [
       "<div>\n",
       "<style scoped>\n",
       "    .dataframe tbody tr th:only-of-type {\n",
       "        vertical-align: middle;\n",
       "    }\n",
       "\n",
       "    .dataframe tbody tr th {\n",
       "        vertical-align: top;\n",
       "    }\n",
       "\n",
       "    .dataframe thead th {\n",
       "        text-align: right;\n",
       "    }\n",
       "</style>\n",
       "<table border=\"1\" class=\"dataframe\">\n",
       "  <thead>\n",
       "    <tr style=\"text-align: right;\">\n",
       "      <th></th>\n",
       "      <th>model</th>\n",
       "      <th>precision</th>\n",
       "      <th>accuracy</th>\n",
       "      <th>recall</th>\n",
       "      <th>f1</th>\n",
       "    </tr>\n",
       "  </thead>\n",
       "  <tbody>\n",
       "    <tr>\n",
       "      <td>0</td>\n",
       "      <td>Gradient Boosting</td>\n",
       "      <td>0.842105</td>\n",
       "      <td>0.943645</td>\n",
       "      <td>0.768</td>\n",
       "      <td>0.803347</td>\n",
       "    </tr>\n",
       "  </tbody>\n",
       "</table>\n",
       "</div>"
      ],
      "text/plain": [
       "               model  precision  accuracy  recall        f1\n",
       "0  Gradient Boosting   0.842105  0.943645   0.768  0.803347"
      ]
     },
     "execution_count": 95,
     "metadata": {},
     "output_type": "execute_result"
    }
   ],
   "source": [
    "results_df[results_df.model == 'Gradient Boosting']"
   ]
  },
  {
   "cell_type": "code",
   "execution_count": 68,
   "metadata": {
    "scrolled": true
   },
   "outputs": [
    {
     "data": {
      "text/html": [
       "<div>\n",
       "<style scoped>\n",
       "    .dataframe tbody tr th:only-of-type {\n",
       "        vertical-align: middle;\n",
       "    }\n",
       "\n",
       "    .dataframe tbody tr th {\n",
       "        vertical-align: top;\n",
       "    }\n",
       "\n",
       "    .dataframe thead th {\n",
       "        text-align: right;\n",
       "    }\n",
       "</style>\n",
       "<table border=\"1\" class=\"dataframe\">\n",
       "  <thead>\n",
       "    <tr style=\"text-align: right;\">\n",
       "      <th></th>\n",
       "      <th>model</th>\n",
       "      <th>precision</th>\n",
       "      <th>accuracy</th>\n",
       "      <th>recall</th>\n",
       "      <th>f1</th>\n",
       "      <th>best_params</th>\n",
       "    </tr>\n",
       "  </thead>\n",
       "  <tbody>\n",
       "    <tr>\n",
       "      <td>0</td>\n",
       "      <td>Gradient Boosting GridSearch</td>\n",
       "      <td>0.827586</td>\n",
       "      <td>0.941247</td>\n",
       "      <td>0.768</td>\n",
       "      <td>0.79668</td>\n",
       "      <td>{'learning_rate': 0.1, 'max_depth': 6, 'min_sa...</td>\n",
       "    </tr>\n",
       "  </tbody>\n",
       "</table>\n",
       "</div>"
      ],
      "text/plain": [
       "                          model  precision  accuracy  recall       f1  \\\n",
       "0  Gradient Boosting GridSearch   0.827586  0.941247   0.768  0.79668   \n",
       "\n",
       "                                         best_params  \n",
       "0  {'learning_rate': 0.1, 'max_depth': 6, 'min_sa...  "
      ]
     },
     "execution_count": 68,
     "metadata": {},
     "output_type": "execute_result"
    }
   ],
   "source": [
    "grid_gb_results_df"
   ]
  },
  {
   "cell_type": "code",
   "execution_count": 69,
   "metadata": {},
   "outputs": [],
   "source": [
    "gb_best_params = grid_gb_results_df['best_params']"
   ]
  },
  {
   "cell_type": "markdown",
   "metadata": {},
   "source": [
    "## XGBoost"
   ]
  },
  {
   "cell_type": "code",
   "execution_count": 70,
   "metadata": {},
   "outputs": [],
   "source": [
    "param_grid = {\n",
    "    \"learning_rate\": [0.1,0.3,0.01,0.5],\n",
    "    'gamma': [0,0.5, 1, 1.5, 2, 5],\n",
    "    'max_depth': [2,3,4,6,8,10],\n",
    "    'min_child_weight': [1,3,5,7,9,10],\n",
    "    'subsample': [0.7,1],\n",
    "    'n_estimators': [5, 10, 15, 20, 25, 50,75, 100],\n",
    "}"
   ]
  },
  {
   "cell_type": "code",
   "execution_count": 71,
   "metadata": {
    "scrolled": false
   },
   "outputs": [
    {
     "name": "stdout",
     "output_type": "stream",
     "text": [
      "Model: XGBoost GridSearch\n",
      "\n",
      "--------------------------------\n",
      "Train Data\n",
      "--------------------------------\n",
      "\n",
      "              precision    recall  f1-score   support\n",
      "\n",
      "       False       0.99      1.00      1.00      2141\n",
      "        True       1.00      0.99      1.00      2141\n",
      "\n",
      "    accuracy                           1.00      4282\n",
      "   macro avg       1.00      1.00      1.00      4282\n",
      "weighted avg       1.00      1.00      1.00      4282\n",
      "\n",
      "--------------------------------\n",
      "Test Data\n",
      "--------------------------------\n",
      "\n",
      "              precision    recall  f1-score   support\n",
      "\n",
      "       False       0.96      0.98      0.97       709\n",
      "        True       0.87      0.78      0.82       125\n",
      "\n",
      "    accuracy                           0.95       834\n",
      "   macro avg       0.91      0.88      0.89       834\n",
      "weighted avg       0.95      0.95      0.95       834\n",
      "\n",
      "\n",
      "\n",
      "{'gamma': 0, 'learning_rate': 0.3, 'max_depth': 10, 'min_child_weight': 1, 'n_estimators': 20, 'subsample': 1}\n",
      "--------------------------------\n",
      "Confusion Matrix\n",
      "--------------------------------\n",
      "\n"
     ]
    },
    {
     "data": {
      "image/png": "[encoded data removed]",
      "text/plain": [
       "<Figure size 432x288 with 2 Axes>"
      ]
     },
     "metadata": {
      "needs_background": "light"
     },
     "output_type": "display_data"
    },
    {
     "name": "stdout",
     "output_type": "stream",
     "text": [
      "\n",
      "        Predicted 0  Predicted 1\n",
      "True 0          694           15\n",
      "True 1           28           97\n"
     ]
    }
   ],
   "source": [
    "xb = XGBClassifier()\n",
    "grid_xb = GridSearchCV(xb, param_grid, scoring='recall', cv=3, n_jobs=1)\n",
    "grid_xb_results = quick_model_gridsearch(grid_xb, 'XGBoost GridSearch')\n",
    "grid_xb_results_df = pd.DataFrame([grid_xb_results], columns=grid_xb_results.keys())\n",
    "refined_results_df = refined_results_df.append(grid_xb_results_df)"
   ]
  },
  {
   "cell_type": "code",
   "execution_count": 72,
   "metadata": {},
   "outputs": [
    {
     "data": {
      "text/html": [
       "<div>\n",
       "<style scoped>\n",
       "    .dataframe tbody tr th:only-of-type {\n",
       "        vertical-align: middle;\n",
       "    }\n",
       "\n",
       "    .dataframe tbody tr th {\n",
       "        vertical-align: top;\n",
       "    }\n",
       "\n",
       "    .dataframe thead th {\n",
       "        text-align: right;\n",
       "    }\n",
       "</style>\n",
       "<table border=\"1\" class=\"dataframe\">\n",
       "  <thead>\n",
       "    <tr style=\"text-align: right;\">\n",
       "      <th></th>\n",
       "      <th>model</th>\n",
       "      <th>precision</th>\n",
       "      <th>accuracy</th>\n",
       "      <th>recall</th>\n",
       "      <th>f1</th>\n",
       "      <th>best_params</th>\n",
       "    </tr>\n",
       "  </thead>\n",
       "  <tbody>\n",
       "    <tr>\n",
       "      <td>0</td>\n",
       "      <td>XGBoost GridSearch</td>\n",
       "      <td>0.866071</td>\n",
       "      <td>0.948441</td>\n",
       "      <td>0.776</td>\n",
       "      <td>0.818565</td>\n",
       "      <td>{'gamma': 0, 'learning_rate': 0.3, 'max_depth'...</td>\n",
       "    </tr>\n",
       "  </tbody>\n",
       "</table>\n",
       "</div>"
      ],
      "text/plain": [
       "                model  precision  accuracy  recall        f1  \\\n",
       "0  XGBoost GridSearch   0.866071  0.948441   0.776  0.818565   \n",
       "\n",
       "                                         best_params  \n",
       "0  {'gamma': 0, 'learning_rate': 0.3, 'max_depth'...  "
      ]
     },
     "execution_count": 72,
     "metadata": {},
     "output_type": "execute_result"
    }
   ],
   "source": [
    "refined_results_df[refined_results_df.model == 'XGBoost GridSearch']"
   ]
  },
  {
   "cell_type": "code",
   "execution_count": 73,
   "metadata": {},
   "outputs": [
    {
     "data": {
      "text/html": [
       "<div>\n",
       "<style scoped>\n",
       "    .dataframe tbody tr th:only-of-type {\n",
       "        vertical-align: middle;\n",
       "    }\n",
       "\n",
       "    .dataframe tbody tr th {\n",
       "        vertical-align: top;\n",
       "    }\n",
       "\n",
       "    .dataframe thead th {\n",
       "        text-align: right;\n",
       "    }\n",
       "</style>\n",
       "<table border=\"1\" class=\"dataframe\">\n",
       "  <thead>\n",
       "    <tr style=\"text-align: right;\">\n",
       "      <th></th>\n",
       "      <th>model</th>\n",
       "      <th>precision</th>\n",
       "      <th>accuracy</th>\n",
       "      <th>recall</th>\n",
       "      <th>f1</th>\n",
       "    </tr>\n",
       "  </thead>\n",
       "  <tbody>\n",
       "    <tr>\n",
       "      <td>0</td>\n",
       "      <td>XGBoost</td>\n",
       "      <td>0.846847</td>\n",
       "      <td>0.942446</td>\n",
       "      <td>0.752</td>\n",
       "      <td>0.79661</td>\n",
       "    </tr>\n",
       "  </tbody>\n",
       "</table>\n",
       "</div>"
      ],
      "text/plain": [
       "     model  precision  accuracy  recall       f1\n",
       "0  XGBoost   0.846847  0.942446   0.752  0.79661"
      ]
     },
     "execution_count": 73,
     "metadata": {},
     "output_type": "execute_result"
    }
   ],
   "source": [
    "results_df[results_df.model == 'XGBoost']"
   ]
  },
  {
   "cell_type": "code",
   "execution_count": 74,
   "metadata": {},
   "outputs": [],
   "source": [
    "xb_best_params = grid_xb_results['best_params']"
   ]
  },
  {
   "cell_type": "markdown",
   "metadata": {},
   "source": [
    "## Bagged Tree"
   ]
  },
  {
   "cell_type": "code",
   "execution_count": 80,
   "metadata": {},
   "outputs": [],
   "source": [
    "param_grid = {\n",
    "    'bootstrap': [True,False],\n",
    "    'bootstrap_features':  [True,False],\n",
    "    'max_features': [0.05, 0.1, 0.2, 0.5,1.0],\n",
    "    'max_samples' : [0.05, 0.1, 0.2,0.3,0.4,0.5,0.6,0.7,0.8,0.9,1.0],\n",
    "    'n_estimators': [10,20,30,40,50,100,500,1000]\n",
    "}"
   ]
  },
  {
   "cell_type": "code",
   "execution_count": 81,
   "metadata": {},
   "outputs": [
    {
     "name": "stdout",
     "output_type": "stream",
     "text": [
      "Model: Bagged Trees GridSearch\n",
      "\n",
      "--------------------------------\n",
      "Train Data\n",
      "--------------------------------\n",
      "\n",
      "              precision    recall  f1-score   support\n",
      "\n",
      "       False       1.00      1.00      1.00      2141\n",
      "        True       1.00      1.00      1.00      2141\n",
      "\n",
      "    accuracy                           1.00      4282\n",
      "   macro avg       1.00      1.00      1.00      4282\n",
      "weighted avg       1.00      1.00      1.00      4282\n",
      "\n",
      "--------------------------------\n",
      "Test Data\n",
      "--------------------------------\n",
      "\n",
      "              precision    recall  f1-score   support\n",
      "\n",
      "       False       0.96      0.98      0.97       709\n",
      "        True       0.85      0.74      0.79       125\n",
      "\n",
      "    accuracy                           0.94       834\n",
      "   macro avg       0.90      0.86      0.88       834\n",
      "weighted avg       0.94      0.94      0.94       834\n",
      "\n",
      "\n",
      "\n",
      "{'bootstrap': False, 'bootstrap_features': True, 'max_features': 1.0, 'max_samples': 1.0, 'n_estimators': 500}\n",
      "--------------------------------\n",
      "Confusion Matrix\n",
      "--------------------------------\n",
      "\n"
     ]
    },
    {
     "data": {
      "image/png": "[encoded data removed]",
      "text/plain": [
       "<Figure size 432x288 with 2 Axes>"
      ]
     },
     "metadata": {
      "needs_background": "light"
     },
     "output_type": "display_data"
    },
    {
     "name": "stdout",
     "output_type": "stream",
     "text": [
      "\n",
      "        Predicted 0  Predicted 1\n",
      "True 0          693           16\n",
      "True 1           32           93\n"
     ]
    }
   ],
   "source": [
    "bt = BaggingClassifier()\n",
    "grid_bt = GridSearchCV(bt, param_grid, scoring='recall', cv=None, n_jobs=1)\n",
    "grid_bt_results = quick_model_gridsearch(grid_bt, 'Bagged Trees GridSearch')\n",
    "grid_bt_results_df = pd.DataFrame([grid_bt_results], columns=grid_bt_results.keys())\n",
    "refined_results_df = refined_results_df.append(grid_bt_results_df)"
   ]
  },
  {
   "cell_type": "code",
   "execution_count": 82,
   "metadata": {},
   "outputs": [
    {
     "data": {
      "text/html": [
       "<div>\n",
       "<style scoped>\n",
       "    .dataframe tbody tr th:only-of-type {\n",
       "        vertical-align: middle;\n",
       "    }\n",
       "\n",
       "    .dataframe tbody tr th {\n",
       "        vertical-align: top;\n",
       "    }\n",
       "\n",
       "    .dataframe thead th {\n",
       "        text-align: right;\n",
       "    }\n",
       "</style>\n",
       "<table border=\"1\" class=\"dataframe\">\n",
       "  <thead>\n",
       "    <tr style=\"text-align: right;\">\n",
       "      <th></th>\n",
       "      <th>model</th>\n",
       "      <th>precision</th>\n",
       "      <th>accuracy</th>\n",
       "      <th>recall</th>\n",
       "      <th>f1</th>\n",
       "      <th>best_params</th>\n",
       "    </tr>\n",
       "  </thead>\n",
       "  <tbody>\n",
       "    <tr>\n",
       "      <td>0</td>\n",
       "      <td>Bagged Trees GridSearch</td>\n",
       "      <td>0.853211</td>\n",
       "      <td>0.942446</td>\n",
       "      <td>0.744</td>\n",
       "      <td>0.794872</td>\n",
       "      <td>{'bootstrap': False, 'bootstrap_features': Tru...</td>\n",
       "    </tr>\n",
       "  </tbody>\n",
       "</table>\n",
       "</div>"
      ],
      "text/plain": [
       "                     model  precision  accuracy  recall        f1  \\\n",
       "0  Bagged Trees GridSearch   0.853211  0.942446   0.744  0.794872   \n",
       "\n",
       "                                         best_params  \n",
       "0  {'bootstrap': False, 'bootstrap_features': Tru...  "
      ]
     },
     "execution_count": 82,
     "metadata": {},
     "output_type": "execute_result"
    }
   ],
   "source": [
    "refined_results_df[refined_results_df.model == 'Bagged Trees GridSearch']"
   ]
  },
  {
   "cell_type": "code",
   "execution_count": 83,
   "metadata": {
    "scrolled": true
   },
   "outputs": [
    {
     "data": {
      "text/html": [
       "<div>\n",
       "<style scoped>\n",
       "    .dataframe tbody tr th:only-of-type {\n",
       "        vertical-align: middle;\n",
       "    }\n",
       "\n",
       "    .dataframe tbody tr th {\n",
       "        vertical-align: top;\n",
       "    }\n",
       "\n",
       "    .dataframe thead th {\n",
       "        text-align: right;\n",
       "    }\n",
       "</style>\n",
       "<table border=\"1\" class=\"dataframe\">\n",
       "  <thead>\n",
       "    <tr style=\"text-align: right;\">\n",
       "      <th></th>\n",
       "      <th>model</th>\n",
       "      <th>precision</th>\n",
       "      <th>accuracy</th>\n",
       "      <th>recall</th>\n",
       "      <th>f1</th>\n",
       "    </tr>\n",
       "  </thead>\n",
       "  <tbody>\n",
       "    <tr>\n",
       "      <td>0</td>\n",
       "      <td>Bagged Trees</td>\n",
       "      <td>0.792793</td>\n",
       "      <td>0.928058</td>\n",
       "      <td>0.704</td>\n",
       "      <td>0.745763</td>\n",
       "    </tr>\n",
       "  </tbody>\n",
       "</table>\n",
       "</div>"
      ],
      "text/plain": [
       "          model  precision  accuracy  recall        f1\n",
       "0  Bagged Trees   0.792793  0.928058   0.704  0.745763"
      ]
     },
     "execution_count": 83,
     "metadata": {},
     "output_type": "execute_result"
    }
   ],
   "source": [
    "results_df[results_df.model == 'Bagged Trees']"
   ]
  },
  {
   "cell_type": "markdown",
   "metadata": {},
   "source": [
    "## Summary of results"
   ]
  },
  {
   "cell_type": "code",
   "execution_count": 87,
   "metadata": {},
   "outputs": [
    {
     "data": {
      "text/html": [
       "<div>\n",
       "<style scoped>\n",
       "    .dataframe tbody tr th:only-of-type {\n",
       "        vertical-align: middle;\n",
       "    }\n",
       "\n",
       "    .dataframe tbody tr th {\n",
       "        vertical-align: top;\n",
       "    }\n",
       "\n",
       "    .dataframe thead th {\n",
       "        text-align: right;\n",
       "    }\n",
       "</style>\n",
       "<table border=\"1\" class=\"dataframe\">\n",
       "  <thead>\n",
       "    <tr style=\"text-align: right;\">\n",
       "      <th></th>\n",
       "      <th>model</th>\n",
       "      <th>precision</th>\n",
       "      <th>accuracy</th>\n",
       "      <th>recall</th>\n",
       "      <th>f1</th>\n",
       "      <th>best_params</th>\n",
       "    </tr>\n",
       "  </thead>\n",
       "  <tbody>\n",
       "    <tr>\n",
       "      <td>0</td>\n",
       "      <td>Gradient Boosting GridSearch</td>\n",
       "      <td>0.827586</td>\n",
       "      <td>0.941247</td>\n",
       "      <td>0.768</td>\n",
       "      <td>0.796680</td>\n",
       "      <td>{'learning_rate': 0.1, 'max_depth': 6, 'min_sa...</td>\n",
       "    </tr>\n",
       "    <tr>\n",
       "      <td>0</td>\n",
       "      <td>XGBoost GridSearch</td>\n",
       "      <td>0.866071</td>\n",
       "      <td>0.948441</td>\n",
       "      <td>0.776</td>\n",
       "      <td>0.818565</td>\n",
       "      <td>{'gamma': 0, 'learning_rate': 0.3, 'max_depth'...</td>\n",
       "    </tr>\n",
       "    <tr>\n",
       "      <td>0</td>\n",
       "      <td>Bagged Trees GridSearch</td>\n",
       "      <td>0.853211</td>\n",
       "      <td>0.942446</td>\n",
       "      <td>0.744</td>\n",
       "      <td>0.794872</td>\n",
       "      <td>{'bootstrap': False, 'bootstrap_features': Tru...</td>\n",
       "    </tr>\n",
       "  </tbody>\n",
       "</table>\n",
       "</div>"
      ],
      "text/plain": [
       "                          model  precision  accuracy  recall        f1  \\\n",
       "0  Gradient Boosting GridSearch   0.827586  0.941247   0.768  0.796680   \n",
       "0            XGBoost GridSearch   0.866071  0.948441   0.776  0.818565   \n",
       "0       Bagged Trees GridSearch   0.853211  0.942446   0.744  0.794872   \n",
       "\n",
       "                                         best_params  \n",
       "0  {'learning_rate': 0.1, 'max_depth': 6, 'min_sa...  \n",
       "0  {'gamma': 0, 'learning_rate': 0.3, 'max_depth'...  \n",
       "0  {'bootstrap': False, 'bootstrap_features': Tru...  "
      ]
     },
     "execution_count": 87,
     "metadata": {},
     "output_type": "execute_result"
    }
   ],
   "source": [
    "refined_results_df"
   ]
  },
  {
   "cell_type": "code",
   "execution_count": 84,
   "metadata": {},
   "outputs": [],
   "source": [
    "# Storing this df for quicker access later\n",
    "\n",
    "refined_results_df.to_csv('gridsearch_models_df',index=False)"
   ]
  },
  {
   "cell_type": "code",
   "execution_count": null,
   "metadata": {},
   "outputs": [],
   "source": [
    "#continuing evaluation in next notebook, project-part-2"
   ]
  }
 ],
 "metadata": {
  "kernelspec": {
   "display_name": "Python 3",
   "language": "python",
   "name": "python3"
  },
  "language_info": {
   "codemirror_mode": {
    "name": "ipython",
    "version": 3
   },
   "file_extension": ".py",
   "mimetype": "text/x-python",
   "name": "python",
   "nbconvert_exporter": "python",
   "pygments_lexer": "ipython3",
   "version": "3.6.9"
  },
  "toc": {
   "base_numbering": 1,
   "nav_menu": {},
   "number_sections": true,
   "sideBar": true,
   "skip_h1_title": false,
   "title_cell": "Table of Contents",
   "title_sidebar": "Contents",
   "toc_cell": false,
   "toc_position": {
    "height": "calc(100% - 180px)",
    "left": "10px",
    "top": "150px",
    "width": "477.792px"
   },
   "toc_section_display": true,
   "toc_window_display": true
  },
  "varInspector": {
   "cols": {
    "lenName": 16,
    "lenType": 16,
    "lenVar": 40
   },
   "kernels_config": {
    "python": {
     "delete_cmd_postfix": "",
     "delete_cmd_prefix": "del ",
     "library": "var_list.py",
     "varRefreshCmd": "print(var_dic_list())"
    },
    "r": {
     "delete_cmd_postfix": ") ",
     "delete_cmd_prefix": "rm(",
     "library": "var_list.r",
     "varRefreshCmd": "cat(var_dic_list()) "
    }
   },
   "oldHeight": 122,
   "position": {
    "height": "40px",
    "left": "1522px",
    "right": "20px",
    "top": "120px",
    "width": "250px"
   },
   "types_to_exclude": [
    "module",
    "function",
    "builtin_function_or_method",
    "instance",
    "_Feature"
   ],
   "varInspector_section_display": "none",
   "window_display": true
  }
 },
 "nbformat": 4,
 "nbformat_minor": 2
}
